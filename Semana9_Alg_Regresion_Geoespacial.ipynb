{
  "nbformat": 4,
  "nbformat_minor": 0,
  "metadata": {
    "colab": {
      "provenance": [],
      "include_colab_link": true
    },
    "kernelspec": {
      "name": "python3",
      "display_name": "Python 3"
    },
    "language_info": {
      "name": "python"
    },
    "gpuClass": "standard",
    "widgets": {
      "application/vnd.jupyter.widget-state+json": {
        "2b30809425074158be20cce7fa40ae54": {
          "model_module": "@jupyter-widgets/controls",
          "model_name": "HBoxModel",
          "model_module_version": "1.5.0",
          "state": {
            "_dom_classes": [],
            "_model_module": "@jupyter-widgets/controls",
            "_model_module_version": "1.5.0",
            "_model_name": "HBoxModel",
            "_view_count": null,
            "_view_module": "@jupyter-widgets/controls",
            "_view_module_version": "1.5.0",
            "_view_name": "HBoxView",
            "box_style": "",
            "children": [
              "IPY_MODEL_55e7a8f535a54cf7832636f8e922fdb0",
              "IPY_MODEL_44d0726e45754800a000fc541d128964",
              "IPY_MODEL_774077388c8646f8a9f6b8f566bbc0fd"
            ],
            "layout": "IPY_MODEL_5384ec101f9f43aeb16795c50310a4a4"
          }
        },
        "55e7a8f535a54cf7832636f8e922fdb0": {
          "model_module": "@jupyter-widgets/controls",
          "model_name": "HTMLModel",
          "model_module_version": "1.5.0",
          "state": {
            "_dom_classes": [],
            "_model_module": "@jupyter-widgets/controls",
            "_model_module_version": "1.5.0",
            "_model_name": "HTMLModel",
            "_view_count": null,
            "_view_module": "@jupyter-widgets/controls",
            "_view_module_version": "1.5.0",
            "_view_name": "HTMLView",
            "description": "",
            "description_tooltip": null,
            "layout": "IPY_MODEL_922d0f1603ed48fda0ac1c58c22e7700",
            "placeholder": "​",
            "style": "IPY_MODEL_90cac61da78f4aa4b80ef92111a19772",
            "value": "Backfitting: 100%"
          }
        },
        "44d0726e45754800a000fc541d128964": {
          "model_module": "@jupyter-widgets/controls",
          "model_name": "FloatProgressModel",
          "model_module_version": "1.5.0",
          "state": {
            "_dom_classes": [],
            "_model_module": "@jupyter-widgets/controls",
            "_model_module_version": "1.5.0",
            "_model_name": "FloatProgressModel",
            "_view_count": null,
            "_view_module": "@jupyter-widgets/controls",
            "_view_module_version": "1.5.0",
            "_view_name": "ProgressView",
            "bar_style": "success",
            "description": "",
            "description_tooltip": null,
            "layout": "IPY_MODEL_54a4f58326694f28a36056166a74982e",
            "max": 200,
            "min": 0,
            "orientation": "horizontal",
            "style": "IPY_MODEL_c76e576f4e314b37ace37cc92986c4cc",
            "value": 200
          }
        },
        "774077388c8646f8a9f6b8f566bbc0fd": {
          "model_module": "@jupyter-widgets/controls",
          "model_name": "HTMLModel",
          "model_module_version": "1.5.0",
          "state": {
            "_dom_classes": [],
            "_model_module": "@jupyter-widgets/controls",
            "_model_module_version": "1.5.0",
            "_model_name": "HTMLModel",
            "_view_count": null,
            "_view_module": "@jupyter-widgets/controls",
            "_view_module_version": "1.5.0",
            "_view_name": "HTMLView",
            "description": "",
            "description_tooltip": null,
            "layout": "IPY_MODEL_6a2b2f93c8df4319817e939f8dc47f4d",
            "placeholder": "​",
            "style": "IPY_MODEL_d34ac5c84eb94b9485cd1be5e01f3848",
            "value": " 200/200 [01:28&lt;00:00,  3.63it/s]"
          }
        },
        "5384ec101f9f43aeb16795c50310a4a4": {
          "model_module": "@jupyter-widgets/base",
          "model_name": "LayoutModel",
          "model_module_version": "1.2.0",
          "state": {
            "_model_module": "@jupyter-widgets/base",
            "_model_module_version": "1.2.0",
            "_model_name": "LayoutModel",
            "_view_count": null,
            "_view_module": "@jupyter-widgets/base",
            "_view_module_version": "1.2.0",
            "_view_name": "LayoutView",
            "align_content": null,
            "align_items": null,
            "align_self": null,
            "border": null,
            "bottom": null,
            "display": null,
            "flex": null,
            "flex_flow": null,
            "grid_area": null,
            "grid_auto_columns": null,
            "grid_auto_flow": null,
            "grid_auto_rows": null,
            "grid_column": null,
            "grid_gap": null,
            "grid_row": null,
            "grid_template_areas": null,
            "grid_template_columns": null,
            "grid_template_rows": null,
            "height": null,
            "justify_content": null,
            "justify_items": null,
            "left": null,
            "margin": null,
            "max_height": null,
            "max_width": null,
            "min_height": null,
            "min_width": null,
            "object_fit": null,
            "object_position": null,
            "order": null,
            "overflow": null,
            "overflow_x": null,
            "overflow_y": null,
            "padding": null,
            "right": null,
            "top": null,
            "visibility": null,
            "width": null
          }
        },
        "922d0f1603ed48fda0ac1c58c22e7700": {
          "model_module": "@jupyter-widgets/base",
          "model_name": "LayoutModel",
          "model_module_version": "1.2.0",
          "state": {
            "_model_module": "@jupyter-widgets/base",
            "_model_module_version": "1.2.0",
            "_model_name": "LayoutModel",
            "_view_count": null,
            "_view_module": "@jupyter-widgets/base",
            "_view_module_version": "1.2.0",
            "_view_name": "LayoutView",
            "align_content": null,
            "align_items": null,
            "align_self": null,
            "border": null,
            "bottom": null,
            "display": null,
            "flex": null,
            "flex_flow": null,
            "grid_area": null,
            "grid_auto_columns": null,
            "grid_auto_flow": null,
            "grid_auto_rows": null,
            "grid_column": null,
            "grid_gap": null,
            "grid_row": null,
            "grid_template_areas": null,
            "grid_template_columns": null,
            "grid_template_rows": null,
            "height": null,
            "justify_content": null,
            "justify_items": null,
            "left": null,
            "margin": null,
            "max_height": null,
            "max_width": null,
            "min_height": null,
            "min_width": null,
            "object_fit": null,
            "object_position": null,
            "order": null,
            "overflow": null,
            "overflow_x": null,
            "overflow_y": null,
            "padding": null,
            "right": null,
            "top": null,
            "visibility": null,
            "width": null
          }
        },
        "90cac61da78f4aa4b80ef92111a19772": {
          "model_module": "@jupyter-widgets/controls",
          "model_name": "DescriptionStyleModel",
          "model_module_version": "1.5.0",
          "state": {
            "_model_module": "@jupyter-widgets/controls",
            "_model_module_version": "1.5.0",
            "_model_name": "DescriptionStyleModel",
            "_view_count": null,
            "_view_module": "@jupyter-widgets/base",
            "_view_module_version": "1.2.0",
            "_view_name": "StyleView",
            "description_width": ""
          }
        },
        "54a4f58326694f28a36056166a74982e": {
          "model_module": "@jupyter-widgets/base",
          "model_name": "LayoutModel",
          "model_module_version": "1.2.0",
          "state": {
            "_model_module": "@jupyter-widgets/base",
            "_model_module_version": "1.2.0",
            "_model_name": "LayoutModel",
            "_view_count": null,
            "_view_module": "@jupyter-widgets/base",
            "_view_module_version": "1.2.0",
            "_view_name": "LayoutView",
            "align_content": null,
            "align_items": null,
            "align_self": null,
            "border": null,
            "bottom": null,
            "display": null,
            "flex": null,
            "flex_flow": null,
            "grid_area": null,
            "grid_auto_columns": null,
            "grid_auto_flow": null,
            "grid_auto_rows": null,
            "grid_column": null,
            "grid_gap": null,
            "grid_row": null,
            "grid_template_areas": null,
            "grid_template_columns": null,
            "grid_template_rows": null,
            "height": null,
            "justify_content": null,
            "justify_items": null,
            "left": null,
            "margin": null,
            "max_height": null,
            "max_width": null,
            "min_height": null,
            "min_width": null,
            "object_fit": null,
            "object_position": null,
            "order": null,
            "overflow": null,
            "overflow_x": null,
            "overflow_y": null,
            "padding": null,
            "right": null,
            "top": null,
            "visibility": null,
            "width": null
          }
        },
        "c76e576f4e314b37ace37cc92986c4cc": {
          "model_module": "@jupyter-widgets/controls",
          "model_name": "ProgressStyleModel",
          "model_module_version": "1.5.0",
          "state": {
            "_model_module": "@jupyter-widgets/controls",
            "_model_module_version": "1.5.0",
            "_model_name": "ProgressStyleModel",
            "_view_count": null,
            "_view_module": "@jupyter-widgets/base",
            "_view_module_version": "1.2.0",
            "_view_name": "StyleView",
            "bar_color": null,
            "description_width": ""
          }
        },
        "6a2b2f93c8df4319817e939f8dc47f4d": {
          "model_module": "@jupyter-widgets/base",
          "model_name": "LayoutModel",
          "model_module_version": "1.2.0",
          "state": {
            "_model_module": "@jupyter-widgets/base",
            "_model_module_version": "1.2.0",
            "_model_name": "LayoutModel",
            "_view_count": null,
            "_view_module": "@jupyter-widgets/base",
            "_view_module_version": "1.2.0",
            "_view_name": "LayoutView",
            "align_content": null,
            "align_items": null,
            "align_self": null,
            "border": null,
            "bottom": null,
            "display": null,
            "flex": null,
            "flex_flow": null,
            "grid_area": null,
            "grid_auto_columns": null,
            "grid_auto_flow": null,
            "grid_auto_rows": null,
            "grid_column": null,
            "grid_gap": null,
            "grid_row": null,
            "grid_template_areas": null,
            "grid_template_columns": null,
            "grid_template_rows": null,
            "height": null,
            "justify_content": null,
            "justify_items": null,
            "left": null,
            "margin": null,
            "max_height": null,
            "max_width": null,
            "min_height": null,
            "min_width": null,
            "object_fit": null,
            "object_position": null,
            "order": null,
            "overflow": null,
            "overflow_x": null,
            "overflow_y": null,
            "padding": null,
            "right": null,
            "top": null,
            "visibility": null,
            "width": null
          }
        },
        "d34ac5c84eb94b9485cd1be5e01f3848": {
          "model_module": "@jupyter-widgets/controls",
          "model_name": "DescriptionStyleModel",
          "model_module_version": "1.5.0",
          "state": {
            "_model_module": "@jupyter-widgets/controls",
            "_model_module_version": "1.5.0",
            "_model_name": "DescriptionStyleModel",
            "_view_count": null,
            "_view_module": "@jupyter-widgets/base",
            "_view_module_version": "1.2.0",
            "_view_name": "StyleView",
            "description_width": ""
          }
        },
        "074ed83bf70f473391b88b1ea7bc9ef6": {
          "model_module": "@jupyter-widgets/controls",
          "model_name": "HBoxModel",
          "model_module_version": "1.5.0",
          "state": {
            "_dom_classes": [],
            "_model_module": "@jupyter-widgets/controls",
            "_model_module_version": "1.5.0",
            "_model_name": "HBoxModel",
            "_view_count": null,
            "_view_module": "@jupyter-widgets/controls",
            "_view_module_version": "1.5.0",
            "_view_name": "HBoxView",
            "box_style": "",
            "children": [
              "IPY_MODEL_5c9629bccca9428880bfc82496a40096",
              "IPY_MODEL_907fa539dd64467b89da278eedafcb43",
              "IPY_MODEL_f6d9b9216c6041a2b216cc0ed83c1ba8"
            ],
            "layout": "IPY_MODEL_a1fe377213b14609a56f7662f40f0a15"
          }
        },
        "5c9629bccca9428880bfc82496a40096": {
          "model_module": "@jupyter-widgets/controls",
          "model_name": "HTMLModel",
          "model_module_version": "1.5.0",
          "state": {
            "_dom_classes": [],
            "_model_module": "@jupyter-widgets/controls",
            "_model_module_version": "1.5.0",
            "_model_name": "HTMLModel",
            "_view_count": null,
            "_view_module": "@jupyter-widgets/controls",
            "_view_module_version": "1.5.0",
            "_view_name": "HTMLView",
            "description": "",
            "description_tooltip": null,
            "layout": "IPY_MODEL_814dd50d3fd946c3868773359c062285",
            "placeholder": "​",
            "style": "IPY_MODEL_912ba3c6c3414671b80c6f129a0f253f",
            "value": "Inference: 100%"
          }
        },
        "907fa539dd64467b89da278eedafcb43": {
          "model_module": "@jupyter-widgets/controls",
          "model_name": "FloatProgressModel",
          "model_module_version": "1.5.0",
          "state": {
            "_dom_classes": [],
            "_model_module": "@jupyter-widgets/controls",
            "_model_module_version": "1.5.0",
            "_model_name": "FloatProgressModel",
            "_view_count": null,
            "_view_module": "@jupyter-widgets/controls",
            "_view_module_version": "1.5.0",
            "_view_name": "ProgressView",
            "bar_style": "success",
            "description": "",
            "description_tooltip": null,
            "layout": "IPY_MODEL_c0ffc115c1e643f0abe9991978b319bb",
            "max": 1,
            "min": 0,
            "orientation": "horizontal",
            "style": "IPY_MODEL_914491b2ecae4deeb8140eec35085680",
            "value": 1
          }
        },
        "f6d9b9216c6041a2b216cc0ed83c1ba8": {
          "model_module": "@jupyter-widgets/controls",
          "model_name": "HTMLModel",
          "model_module_version": "1.5.0",
          "state": {
            "_dom_classes": [],
            "_model_module": "@jupyter-widgets/controls",
            "_model_module_version": "1.5.0",
            "_model_name": "HTMLModel",
            "_view_count": null,
            "_view_module": "@jupyter-widgets/controls",
            "_view_module_version": "1.5.0",
            "_view_name": "HTMLView",
            "description": "",
            "description_tooltip": null,
            "layout": "IPY_MODEL_5151ddd131fe446e83f8cdb062e16e8b",
            "placeholder": "​",
            "style": "IPY_MODEL_00602a81bd974dc699169094399204bc",
            "value": " 1/1 [00:42&lt;00:00, 42.33s/it]"
          }
        },
        "a1fe377213b14609a56f7662f40f0a15": {
          "model_module": "@jupyter-widgets/base",
          "model_name": "LayoutModel",
          "model_module_version": "1.2.0",
          "state": {
            "_model_module": "@jupyter-widgets/base",
            "_model_module_version": "1.2.0",
            "_model_name": "LayoutModel",
            "_view_count": null,
            "_view_module": "@jupyter-widgets/base",
            "_view_module_version": "1.2.0",
            "_view_name": "LayoutView",
            "align_content": null,
            "align_items": null,
            "align_self": null,
            "border": null,
            "bottom": null,
            "display": null,
            "flex": null,
            "flex_flow": null,
            "grid_area": null,
            "grid_auto_columns": null,
            "grid_auto_flow": null,
            "grid_auto_rows": null,
            "grid_column": null,
            "grid_gap": null,
            "grid_row": null,
            "grid_template_areas": null,
            "grid_template_columns": null,
            "grid_template_rows": null,
            "height": null,
            "justify_content": null,
            "justify_items": null,
            "left": null,
            "margin": null,
            "max_height": null,
            "max_width": null,
            "min_height": null,
            "min_width": null,
            "object_fit": null,
            "object_position": null,
            "order": null,
            "overflow": null,
            "overflow_x": null,
            "overflow_y": null,
            "padding": null,
            "right": null,
            "top": null,
            "visibility": null,
            "width": null
          }
        },
        "814dd50d3fd946c3868773359c062285": {
          "model_module": "@jupyter-widgets/base",
          "model_name": "LayoutModel",
          "model_module_version": "1.2.0",
          "state": {
            "_model_module": "@jupyter-widgets/base",
            "_model_module_version": "1.2.0",
            "_model_name": "LayoutModel",
            "_view_count": null,
            "_view_module": "@jupyter-widgets/base",
            "_view_module_version": "1.2.0",
            "_view_name": "LayoutView",
            "align_content": null,
            "align_items": null,
            "align_self": null,
            "border": null,
            "bottom": null,
            "display": null,
            "flex": null,
            "flex_flow": null,
            "grid_area": null,
            "grid_auto_columns": null,
            "grid_auto_flow": null,
            "grid_auto_rows": null,
            "grid_column": null,
            "grid_gap": null,
            "grid_row": null,
            "grid_template_areas": null,
            "grid_template_columns": null,
            "grid_template_rows": null,
            "height": null,
            "justify_content": null,
            "justify_items": null,
            "left": null,
            "margin": null,
            "max_height": null,
            "max_width": null,
            "min_height": null,
            "min_width": null,
            "object_fit": null,
            "object_position": null,
            "order": null,
            "overflow": null,
            "overflow_x": null,
            "overflow_y": null,
            "padding": null,
            "right": null,
            "top": null,
            "visibility": null,
            "width": null
          }
        },
        "912ba3c6c3414671b80c6f129a0f253f": {
          "model_module": "@jupyter-widgets/controls",
          "model_name": "DescriptionStyleModel",
          "model_module_version": "1.5.0",
          "state": {
            "_model_module": "@jupyter-widgets/controls",
            "_model_module_version": "1.5.0",
            "_model_name": "DescriptionStyleModel",
            "_view_count": null,
            "_view_module": "@jupyter-widgets/base",
            "_view_module_version": "1.2.0",
            "_view_name": "StyleView",
            "description_width": ""
          }
        },
        "c0ffc115c1e643f0abe9991978b319bb": {
          "model_module": "@jupyter-widgets/base",
          "model_name": "LayoutModel",
          "model_module_version": "1.2.0",
          "state": {
            "_model_module": "@jupyter-widgets/base",
            "_model_module_version": "1.2.0",
            "_model_name": "LayoutModel",
            "_view_count": null,
            "_view_module": "@jupyter-widgets/base",
            "_view_module_version": "1.2.0",
            "_view_name": "LayoutView",
            "align_content": null,
            "align_items": null,
            "align_self": null,
            "border": null,
            "bottom": null,
            "display": null,
            "flex": null,
            "flex_flow": null,
            "grid_area": null,
            "grid_auto_columns": null,
            "grid_auto_flow": null,
            "grid_auto_rows": null,
            "grid_column": null,
            "grid_gap": null,
            "grid_row": null,
            "grid_template_areas": null,
            "grid_template_columns": null,
            "grid_template_rows": null,
            "height": null,
            "justify_content": null,
            "justify_items": null,
            "left": null,
            "margin": null,
            "max_height": null,
            "max_width": null,
            "min_height": null,
            "min_width": null,
            "object_fit": null,
            "object_position": null,
            "order": null,
            "overflow": null,
            "overflow_x": null,
            "overflow_y": null,
            "padding": null,
            "right": null,
            "top": null,
            "visibility": null,
            "width": null
          }
        },
        "914491b2ecae4deeb8140eec35085680": {
          "model_module": "@jupyter-widgets/controls",
          "model_name": "ProgressStyleModel",
          "model_module_version": "1.5.0",
          "state": {
            "_model_module": "@jupyter-widgets/controls",
            "_model_module_version": "1.5.0",
            "_model_name": "ProgressStyleModel",
            "_view_count": null,
            "_view_module": "@jupyter-widgets/base",
            "_view_module_version": "1.2.0",
            "_view_name": "StyleView",
            "bar_color": null,
            "description_width": ""
          }
        },
        "5151ddd131fe446e83f8cdb062e16e8b": {
          "model_module": "@jupyter-widgets/base",
          "model_name": "LayoutModel",
          "model_module_version": "1.2.0",
          "state": {
            "_model_module": "@jupyter-widgets/base",
            "_model_module_version": "1.2.0",
            "_model_name": "LayoutModel",
            "_view_count": null,
            "_view_module": "@jupyter-widgets/base",
            "_view_module_version": "1.2.0",
            "_view_name": "LayoutView",
            "align_content": null,
            "align_items": null,
            "align_self": null,
            "border": null,
            "bottom": null,
            "display": null,
            "flex": null,
            "flex_flow": null,
            "grid_area": null,
            "grid_auto_columns": null,
            "grid_auto_flow": null,
            "grid_auto_rows": null,
            "grid_column": null,
            "grid_gap": null,
            "grid_row": null,
            "grid_template_areas": null,
            "grid_template_columns": null,
            "grid_template_rows": null,
            "height": null,
            "justify_content": null,
            "justify_items": null,
            "left": null,
            "margin": null,
            "max_height": null,
            "max_width": null,
            "min_height": null,
            "min_width": null,
            "object_fit": null,
            "object_position": null,
            "order": null,
            "overflow": null,
            "overflow_x": null,
            "overflow_y": null,
            "padding": null,
            "right": null,
            "top": null,
            "visibility": null,
            "width": null
          }
        },
        "00602a81bd974dc699169094399204bc": {
          "model_module": "@jupyter-widgets/controls",
          "model_name": "DescriptionStyleModel",
          "model_module_version": "1.5.0",
          "state": {
            "_model_module": "@jupyter-widgets/controls",
            "_model_module_version": "1.5.0",
            "_model_name": "DescriptionStyleModel",
            "_view_count": null,
            "_view_module": "@jupyter-widgets/base",
            "_view_module_version": "1.2.0",
            "_view_name": "StyleView",
            "description_width": ""
          }
        }
      }
    }
  },
  "cells": [
    {
      "cell_type": "markdown",
      "metadata": {
        "id": "view-in-github",
        "colab_type": "text"
      },
      "source": [
        "<a href=\"https://colab.research.google.com/github/CanoPablo/Regresion_Geoespacial/blob/main/Semana9_Alg_Regresion_Geoespacial.ipynb\" target=\"_parent\"><img src=\"https://colab.research.google.com/assets/colab-badge.svg\" alt=\"Open In Colab\"/></a>"
      ]
    },
    {
      "cell_type": "markdown",
      "source": [
        "#Geographically weighted regression model"
      ],
      "metadata": {
        "id": "NcsKeGwwa7u4"
      }
    },
    {
      "cell_type": "code",
      "source": [
        "!pip install -U mgwr"
      ],
      "metadata": {
        "id": "dzWVnZIncYH8",
        "colab": {
          "base_uri": "https://localhost:8080/"
        },
        "outputId": "665aa3b7-ec92-4cba-8558-229c2c01555d"
      },
      "execution_count": null,
      "outputs": [
        {
          "output_type": "stream",
          "name": "stdout",
          "text": [
            "Requirement already satisfied: mgwr in /usr/local/lib/python3.10/dist-packages (2.2.0)\n",
            "Requirement already satisfied: scipy>=0.11 in /usr/local/lib/python3.10/dist-packages (from mgwr) (1.11.4)\n",
            "Requirement already satisfied: numpy>=1.3 in /usr/local/lib/python3.10/dist-packages (from mgwr) (1.23.5)\n",
            "Requirement already satisfied: libpysal>=4.0.0 in /usr/local/lib/python3.10/dist-packages (from mgwr) (4.9.2)\n",
            "Requirement already satisfied: spglm>=1.0.6 in /usr/local/lib/python3.10/dist-packages (from mgwr) (1.1.0)\n",
            "Requirement already satisfied: spreg in /usr/local/lib/python3.10/dist-packages (from mgwr) (1.4.2)\n",
            "Requirement already satisfied: beautifulsoup4>=4.10 in /usr/local/lib/python3.10/dist-packages (from libpysal>=4.0.0->mgwr) (4.11.2)\n",
            "Requirement already satisfied: geopandas>=0.10.0 in /usr/local/lib/python3.10/dist-packages (from libpysal>=4.0.0->mgwr) (0.13.2)\n",
            "Requirement already satisfied: packaging>=22 in /usr/local/lib/python3.10/dist-packages (from libpysal>=4.0.0->mgwr) (23.2)\n",
            "Requirement already satisfied: pandas>=1.4 in /usr/local/lib/python3.10/dist-packages (from libpysal>=4.0.0->mgwr) (1.5.3)\n",
            "Requirement already satisfied: platformdirs>=2.0.2 in /usr/local/lib/python3.10/dist-packages (from libpysal>=4.0.0->mgwr) (4.1.0)\n",
            "Requirement already satisfied: requests>=2.27 in /usr/local/lib/python3.10/dist-packages (from libpysal>=4.0.0->mgwr) (2.31.0)\n",
            "Requirement already satisfied: shapely>=2.0.1 in /usr/local/lib/python3.10/dist-packages (from libpysal>=4.0.0->mgwr) (2.0.2)\n",
            "Requirement already satisfied: scikit-learn>=0.22 in /usr/local/lib/python3.10/dist-packages (from spreg->mgwr) (1.2.2)\n",
            "Requirement already satisfied: soupsieve>1.2 in /usr/local/lib/python3.10/dist-packages (from beautifulsoup4>=4.10->libpysal>=4.0.0->mgwr) (2.5)\n",
            "Requirement already satisfied: fiona>=1.8.19 in /usr/local/lib/python3.10/dist-packages (from geopandas>=0.10.0->libpysal>=4.0.0->mgwr) (1.9.5)\n",
            "Requirement already satisfied: pyproj>=3.0.1 in /usr/local/lib/python3.10/dist-packages (from geopandas>=0.10.0->libpysal>=4.0.0->mgwr) (3.6.1)\n",
            "Requirement already satisfied: python-dateutil>=2.8.1 in /usr/local/lib/python3.10/dist-packages (from pandas>=1.4->libpysal>=4.0.0->mgwr) (2.8.2)\n",
            "Requirement already satisfied: pytz>=2020.1 in /usr/local/lib/python3.10/dist-packages (from pandas>=1.4->libpysal>=4.0.0->mgwr) (2023.3.post1)\n",
            "Requirement already satisfied: charset-normalizer<4,>=2 in /usr/local/lib/python3.10/dist-packages (from requests>=2.27->libpysal>=4.0.0->mgwr) (3.3.2)\n",
            "Requirement already satisfied: idna<4,>=2.5 in /usr/local/lib/python3.10/dist-packages (from requests>=2.27->libpysal>=4.0.0->mgwr) (3.6)\n",
            "Requirement already satisfied: urllib3<3,>=1.21.1 in /usr/local/lib/python3.10/dist-packages (from requests>=2.27->libpysal>=4.0.0->mgwr) (2.0.7)\n",
            "Requirement already satisfied: certifi>=2017.4.17 in /usr/local/lib/python3.10/dist-packages (from requests>=2.27->libpysal>=4.0.0->mgwr) (2023.11.17)\n",
            "Requirement already satisfied: joblib>=1.1.1 in /usr/local/lib/python3.10/dist-packages (from scikit-learn>=0.22->spreg->mgwr) (1.3.2)\n",
            "Requirement already satisfied: threadpoolctl>=2.0.0 in /usr/local/lib/python3.10/dist-packages (from scikit-learn>=0.22->spreg->mgwr) (3.2.0)\n",
            "Requirement already satisfied: attrs>=19.2.0 in /usr/local/lib/python3.10/dist-packages (from fiona>=1.8.19->geopandas>=0.10.0->libpysal>=4.0.0->mgwr) (23.1.0)\n",
            "Requirement already satisfied: click~=8.0 in /usr/local/lib/python3.10/dist-packages (from fiona>=1.8.19->geopandas>=0.10.0->libpysal>=4.0.0->mgwr) (8.1.7)\n",
            "Requirement already satisfied: click-plugins>=1.0 in /usr/local/lib/python3.10/dist-packages (from fiona>=1.8.19->geopandas>=0.10.0->libpysal>=4.0.0->mgwr) (1.1.1)\n",
            "Requirement already satisfied: cligj>=0.5 in /usr/local/lib/python3.10/dist-packages (from fiona>=1.8.19->geopandas>=0.10.0->libpysal>=4.0.0->mgwr) (0.7.2)\n",
            "Requirement already satisfied: six in /usr/local/lib/python3.10/dist-packages (from fiona>=1.8.19->geopandas>=0.10.0->libpysal>=4.0.0->mgwr) (1.16.0)\n",
            "Requirement already satisfied: setuptools in /usr/local/lib/python3.10/dist-packages (from fiona>=1.8.19->geopandas>=0.10.0->libpysal>=4.0.0->mgwr) (67.7.2)\n"
          ]
        }
      ]
    },
    {
      "cell_type": "code",
      "source": [
        "!pip install geopandas"
      ],
      "metadata": {
        "id": "G-GV8suU7tw8",
        "colab": {
          "base_uri": "https://localhost:8080/"
        },
        "outputId": "cb6507d5-a524-47f6-99da-d9a10f8f097d"
      },
      "execution_count": null,
      "outputs": [
        {
          "output_type": "stream",
          "name": "stdout",
          "text": [
            "Requirement already satisfied: geopandas in /usr/local/lib/python3.10/dist-packages (0.13.2)\n",
            "Requirement already satisfied: fiona>=1.8.19 in /usr/local/lib/python3.10/dist-packages (from geopandas) (1.9.5)\n",
            "Requirement already satisfied: packaging in /usr/local/lib/python3.10/dist-packages (from geopandas) (23.2)\n",
            "Requirement already satisfied: pandas>=1.1.0 in /usr/local/lib/python3.10/dist-packages (from geopandas) (1.5.3)\n",
            "Requirement already satisfied: pyproj>=3.0.1 in /usr/local/lib/python3.10/dist-packages (from geopandas) (3.6.1)\n",
            "Requirement already satisfied: shapely>=1.7.1 in /usr/local/lib/python3.10/dist-packages (from geopandas) (2.0.2)\n",
            "Requirement already satisfied: attrs>=19.2.0 in /usr/local/lib/python3.10/dist-packages (from fiona>=1.8.19->geopandas) (23.1.0)\n",
            "Requirement already satisfied: certifi in /usr/local/lib/python3.10/dist-packages (from fiona>=1.8.19->geopandas) (2023.11.17)\n",
            "Requirement already satisfied: click~=8.0 in /usr/local/lib/python3.10/dist-packages (from fiona>=1.8.19->geopandas) (8.1.7)\n",
            "Requirement already satisfied: click-plugins>=1.0 in /usr/local/lib/python3.10/dist-packages (from fiona>=1.8.19->geopandas) (1.1.1)\n",
            "Requirement already satisfied: cligj>=0.5 in /usr/local/lib/python3.10/dist-packages (from fiona>=1.8.19->geopandas) (0.7.2)\n",
            "Requirement already satisfied: six in /usr/local/lib/python3.10/dist-packages (from fiona>=1.8.19->geopandas) (1.16.0)\n",
            "Requirement already satisfied: setuptools in /usr/local/lib/python3.10/dist-packages (from fiona>=1.8.19->geopandas) (67.7.2)\n",
            "Requirement already satisfied: python-dateutil>=2.8.1 in /usr/local/lib/python3.10/dist-packages (from pandas>=1.1.0->geopandas) (2.8.2)\n",
            "Requirement already satisfied: pytz>=2020.1 in /usr/local/lib/python3.10/dist-packages (from pandas>=1.1.0->geopandas) (2023.3.post1)\n",
            "Requirement already satisfied: numpy>=1.21.0 in /usr/local/lib/python3.10/dist-packages (from pandas>=1.1.0->geopandas) (1.23.5)\n"
          ]
        }
      ]
    },
    {
      "cell_type": "markdown",
      "source": [
        "Dependencias"
      ],
      "metadata": {
        "id": "mPVHny1ncLCw"
      }
    },
    {
      "cell_type": "code",
      "source": [
        "from mgwr.gwr import GWR, MGWR\n",
        "from mgwr.sel_bw import Sel_BW\n",
        "from spglm.family import Gaussian, Binomial, Poisson\n",
        "\n",
        "import geopandas as gpd\n",
        "from shapely.geometry import Point\n",
        "\n",
        "import numpy as np\n",
        "import pandas as pd\n",
        "import scipy.stats as ss\n",
        "import matplotlib.pyplot as plt\n",
        "from scipy.special import loggamma"
      ],
      "metadata": {
        "id": "kwh7OFUHcPCs"
      },
      "execution_count": null,
      "outputs": []
    },
    {
      "cell_type": "markdown",
      "source": [
        "Para información sobre `mgwr.gwr` consultar:\n",
        "\n",
        "https://buildmedia.readthedocs.org/media/pdf/mgwr/latest/mgwr.pdf"
      ],
      "metadata": {
        "id": "yVAggBI_sIwt"
      }
    },
    {
      "cell_type": "markdown",
      "source": [
        "##Data\n",
        "\n",
        "Para mas detalle de los datos consultar: https://www.ncbi.nlm.nih.gov/pmc/articles/PMC5780421/"
      ],
      "metadata": {
        "id": "OW0G6LlwbOTu"
      }
    },
    {
      "cell_type": "code",
      "source": [
        "#import data from file\n",
        "url = 'https://www.ncbi.nlm.nih.gov/pmc/articles/PMC5780421/bin/41598_2018_19772_MOESM3_ESM.xlsx'\n",
        "data = pd.read_excel(url)\n",
        "print(data.shape)\n",
        "data.head()"
      ],
      "metadata": {
        "id": "0H91G5Wmd_TY",
        "colab": {
          "base_uri": "https://localhost:8080/",
          "height": 224
        },
        "outputId": "293b8fbb-161e-45c8-c977-64424742d3df"
      },
      "execution_count": null,
      "outputs": [
        {
          "output_type": "stream",
          "name": "stdout",
          "text": [
            "(593, 9)\n"
          ]
        },
        {
          "output_type": "execute_result",
          "data": {
            "text/plain": [
              "   Number of positive case  Total number of sample  Latitude  Longitude  \\\n",
              "0                        0                     136     46.12      14.82   \n",
              "1                        0                     143     46.12      14.82   \n",
              "2                        3                     185     46.12      14.82   \n",
              "3                       27                     170     46.12      14.82   \n",
              "4                      135                     283     46.12      14.82   \n",
              "\n",
              "   Time index  Intercept  Temperature  Precipitation  Relative humidity  \n",
              "0          22          1          9.8          133.0           0.833607  \n",
              "1          23          1          2.9            1.0           0.917059  \n",
              "2          24          1          1.9           56.7           0.856400  \n",
              "3          25          1          0.8           26.5           0.679756  \n",
              "4          26          1         -2.5           35.4           0.767403  "
            ],
            "text/html": [
              "\n",
              "  <div id=\"df-cb493a15-2c59-48ee-818b-cccf97a62268\" class=\"colab-df-container\">\n",
              "    <div>\n",
              "<style scoped>\n",
              "    .dataframe tbody tr th:only-of-type {\n",
              "        vertical-align: middle;\n",
              "    }\n",
              "\n",
              "    .dataframe tbody tr th {\n",
              "        vertical-align: top;\n",
              "    }\n",
              "\n",
              "    .dataframe thead th {\n",
              "        text-align: right;\n",
              "    }\n",
              "</style>\n",
              "<table border=\"1\" class=\"dataframe\">\n",
              "  <thead>\n",
              "    <tr style=\"text-align: right;\">\n",
              "      <th></th>\n",
              "      <th>Number of positive case</th>\n",
              "      <th>Total number of sample</th>\n",
              "      <th>Latitude</th>\n",
              "      <th>Longitude</th>\n",
              "      <th>Time index</th>\n",
              "      <th>Intercept</th>\n",
              "      <th>Temperature</th>\n",
              "      <th>Precipitation</th>\n",
              "      <th>Relative humidity</th>\n",
              "    </tr>\n",
              "  </thead>\n",
              "  <tbody>\n",
              "    <tr>\n",
              "      <th>0</th>\n",
              "      <td>0</td>\n",
              "      <td>136</td>\n",
              "      <td>46.12</td>\n",
              "      <td>14.82</td>\n",
              "      <td>22</td>\n",
              "      <td>1</td>\n",
              "      <td>9.8</td>\n",
              "      <td>133.0</td>\n",
              "      <td>0.833607</td>\n",
              "    </tr>\n",
              "    <tr>\n",
              "      <th>1</th>\n",
              "      <td>0</td>\n",
              "      <td>143</td>\n",
              "      <td>46.12</td>\n",
              "      <td>14.82</td>\n",
              "      <td>23</td>\n",
              "      <td>1</td>\n",
              "      <td>2.9</td>\n",
              "      <td>1.0</td>\n",
              "      <td>0.917059</td>\n",
              "    </tr>\n",
              "    <tr>\n",
              "      <th>2</th>\n",
              "      <td>3</td>\n",
              "      <td>185</td>\n",
              "      <td>46.12</td>\n",
              "      <td>14.82</td>\n",
              "      <td>24</td>\n",
              "      <td>1</td>\n",
              "      <td>1.9</td>\n",
              "      <td>56.7</td>\n",
              "      <td>0.856400</td>\n",
              "    </tr>\n",
              "    <tr>\n",
              "      <th>3</th>\n",
              "      <td>27</td>\n",
              "      <td>170</td>\n",
              "      <td>46.12</td>\n",
              "      <td>14.82</td>\n",
              "      <td>25</td>\n",
              "      <td>1</td>\n",
              "      <td>0.8</td>\n",
              "      <td>26.5</td>\n",
              "      <td>0.679756</td>\n",
              "    </tr>\n",
              "    <tr>\n",
              "      <th>4</th>\n",
              "      <td>135</td>\n",
              "      <td>283</td>\n",
              "      <td>46.12</td>\n",
              "      <td>14.82</td>\n",
              "      <td>26</td>\n",
              "      <td>1</td>\n",
              "      <td>-2.5</td>\n",
              "      <td>35.4</td>\n",
              "      <td>0.767403</td>\n",
              "    </tr>\n",
              "  </tbody>\n",
              "</table>\n",
              "</div>\n",
              "    <div class=\"colab-df-buttons\">\n",
              "\n",
              "  <div class=\"colab-df-container\">\n",
              "    <button class=\"colab-df-convert\" onclick=\"convertToInteractive('df-cb493a15-2c59-48ee-818b-cccf97a62268')\"\n",
              "            title=\"Convert this dataframe to an interactive table.\"\n",
              "            style=\"display:none;\">\n",
              "\n",
              "  <svg xmlns=\"http://www.w3.org/2000/svg\" height=\"24px\" viewBox=\"0 -960 960 960\">\n",
              "    <path d=\"M120-120v-720h720v720H120Zm60-500h600v-160H180v160Zm220 220h160v-160H400v160Zm0 220h160v-160H400v160ZM180-400h160v-160H180v160Zm440 0h160v-160H620v160ZM180-180h160v-160H180v160Zm440 0h160v-160H620v160Z\"/>\n",
              "  </svg>\n",
              "    </button>\n",
              "\n",
              "  <style>\n",
              "    .colab-df-container {\n",
              "      display:flex;\n",
              "      gap: 12px;\n",
              "    }\n",
              "\n",
              "    .colab-df-convert {\n",
              "      background-color: #E8F0FE;\n",
              "      border: none;\n",
              "      border-radius: 50%;\n",
              "      cursor: pointer;\n",
              "      display: none;\n",
              "      fill: #1967D2;\n",
              "      height: 32px;\n",
              "      padding: 0 0 0 0;\n",
              "      width: 32px;\n",
              "    }\n",
              "\n",
              "    .colab-df-convert:hover {\n",
              "      background-color: #E2EBFA;\n",
              "      box-shadow: 0px 1px 2px rgba(60, 64, 67, 0.3), 0px 1px 3px 1px rgba(60, 64, 67, 0.15);\n",
              "      fill: #174EA6;\n",
              "    }\n",
              "\n",
              "    .colab-df-buttons div {\n",
              "      margin-bottom: 4px;\n",
              "    }\n",
              "\n",
              "    [theme=dark] .colab-df-convert {\n",
              "      background-color: #3B4455;\n",
              "      fill: #D2E3FC;\n",
              "    }\n",
              "\n",
              "    [theme=dark] .colab-df-convert:hover {\n",
              "      background-color: #434B5C;\n",
              "      box-shadow: 0px 1px 3px 1px rgba(0, 0, 0, 0.15);\n",
              "      filter: drop-shadow(0px 1px 2px rgba(0, 0, 0, 0.3));\n",
              "      fill: #FFFFFF;\n",
              "    }\n",
              "  </style>\n",
              "\n",
              "    <script>\n",
              "      const buttonEl =\n",
              "        document.querySelector('#df-cb493a15-2c59-48ee-818b-cccf97a62268 button.colab-df-convert');\n",
              "      buttonEl.style.display =\n",
              "        google.colab.kernel.accessAllowed ? 'block' : 'none';\n",
              "\n",
              "      async function convertToInteractive(key) {\n",
              "        const element = document.querySelector('#df-cb493a15-2c59-48ee-818b-cccf97a62268');\n",
              "        const dataTable =\n",
              "          await google.colab.kernel.invokeFunction('convertToInteractive',\n",
              "                                                    [key], {});\n",
              "        if (!dataTable) return;\n",
              "\n",
              "        const docLinkHtml = 'Like what you see? Visit the ' +\n",
              "          '<a target=\"_blank\" href=https://colab.research.google.com/notebooks/data_table.ipynb>data table notebook</a>'\n",
              "          + ' to learn more about interactive tables.';\n",
              "        element.innerHTML = '';\n",
              "        dataTable['output_type'] = 'display_data';\n",
              "        await google.colab.output.renderOutput(dataTable, element);\n",
              "        const docLink = document.createElement('div');\n",
              "        docLink.innerHTML = docLinkHtml;\n",
              "        element.appendChild(docLink);\n",
              "      }\n",
              "    </script>\n",
              "  </div>\n",
              "\n",
              "\n",
              "<div id=\"df-34103343-3979-4c98-bff9-c987334c6ff5\">\n",
              "  <button class=\"colab-df-quickchart\" onclick=\"quickchart('df-34103343-3979-4c98-bff9-c987334c6ff5')\"\n",
              "            title=\"Suggest charts\"\n",
              "            style=\"display:none;\">\n",
              "\n",
              "<svg xmlns=\"http://www.w3.org/2000/svg\" height=\"24px\"viewBox=\"0 0 24 24\"\n",
              "     width=\"24px\">\n",
              "    <g>\n",
              "        <path d=\"M19 3H5c-1.1 0-2 .9-2 2v14c0 1.1.9 2 2 2h14c1.1 0 2-.9 2-2V5c0-1.1-.9-2-2-2zM9 17H7v-7h2v7zm4 0h-2V7h2v10zm4 0h-2v-4h2v4z\"/>\n",
              "    </g>\n",
              "</svg>\n",
              "  </button>\n",
              "\n",
              "<style>\n",
              "  .colab-df-quickchart {\n",
              "      --bg-color: #E8F0FE;\n",
              "      --fill-color: #1967D2;\n",
              "      --hover-bg-color: #E2EBFA;\n",
              "      --hover-fill-color: #174EA6;\n",
              "      --disabled-fill-color: #AAA;\n",
              "      --disabled-bg-color: #DDD;\n",
              "  }\n",
              "\n",
              "  [theme=dark] .colab-df-quickchart {\n",
              "      --bg-color: #3B4455;\n",
              "      --fill-color: #D2E3FC;\n",
              "      --hover-bg-color: #434B5C;\n",
              "      --hover-fill-color: #FFFFFF;\n",
              "      --disabled-bg-color: #3B4455;\n",
              "      --disabled-fill-color: #666;\n",
              "  }\n",
              "\n",
              "  .colab-df-quickchart {\n",
              "    background-color: var(--bg-color);\n",
              "    border: none;\n",
              "    border-radius: 50%;\n",
              "    cursor: pointer;\n",
              "    display: none;\n",
              "    fill: var(--fill-color);\n",
              "    height: 32px;\n",
              "    padding: 0;\n",
              "    width: 32px;\n",
              "  }\n",
              "\n",
              "  .colab-df-quickchart:hover {\n",
              "    background-color: var(--hover-bg-color);\n",
              "    box-shadow: 0 1px 2px rgba(60, 64, 67, 0.3), 0 1px 3px 1px rgba(60, 64, 67, 0.15);\n",
              "    fill: var(--button-hover-fill-color);\n",
              "  }\n",
              "\n",
              "  .colab-df-quickchart-complete:disabled,\n",
              "  .colab-df-quickchart-complete:disabled:hover {\n",
              "    background-color: var(--disabled-bg-color);\n",
              "    fill: var(--disabled-fill-color);\n",
              "    box-shadow: none;\n",
              "  }\n",
              "\n",
              "  .colab-df-spinner {\n",
              "    border: 2px solid var(--fill-color);\n",
              "    border-color: transparent;\n",
              "    border-bottom-color: var(--fill-color);\n",
              "    animation:\n",
              "      spin 1s steps(1) infinite;\n",
              "  }\n",
              "\n",
              "  @keyframes spin {\n",
              "    0% {\n",
              "      border-color: transparent;\n",
              "      border-bottom-color: var(--fill-color);\n",
              "      border-left-color: var(--fill-color);\n",
              "    }\n",
              "    20% {\n",
              "      border-color: transparent;\n",
              "      border-left-color: var(--fill-color);\n",
              "      border-top-color: var(--fill-color);\n",
              "    }\n",
              "    30% {\n",
              "      border-color: transparent;\n",
              "      border-left-color: var(--fill-color);\n",
              "      border-top-color: var(--fill-color);\n",
              "      border-right-color: var(--fill-color);\n",
              "    }\n",
              "    40% {\n",
              "      border-color: transparent;\n",
              "      border-right-color: var(--fill-color);\n",
              "      border-top-color: var(--fill-color);\n",
              "    }\n",
              "    60% {\n",
              "      border-color: transparent;\n",
              "      border-right-color: var(--fill-color);\n",
              "    }\n",
              "    80% {\n",
              "      border-color: transparent;\n",
              "      border-right-color: var(--fill-color);\n",
              "      border-bottom-color: var(--fill-color);\n",
              "    }\n",
              "    90% {\n",
              "      border-color: transparent;\n",
              "      border-bottom-color: var(--fill-color);\n",
              "    }\n",
              "  }\n",
              "</style>\n",
              "\n",
              "  <script>\n",
              "    async function quickchart(key) {\n",
              "      const quickchartButtonEl =\n",
              "        document.querySelector('#' + key + ' button');\n",
              "      quickchartButtonEl.disabled = true;  // To prevent multiple clicks.\n",
              "      quickchartButtonEl.classList.add('colab-df-spinner');\n",
              "      try {\n",
              "        const charts = await google.colab.kernel.invokeFunction(\n",
              "            'suggestCharts', [key], {});\n",
              "      } catch (error) {\n",
              "        console.error('Error during call to suggestCharts:', error);\n",
              "      }\n",
              "      quickchartButtonEl.classList.remove('colab-df-spinner');\n",
              "      quickchartButtonEl.classList.add('colab-df-quickchart-complete');\n",
              "    }\n",
              "    (() => {\n",
              "      let quickchartButtonEl =\n",
              "        document.querySelector('#df-34103343-3979-4c98-bff9-c987334c6ff5 button');\n",
              "      quickchartButtonEl.style.display =\n",
              "        google.colab.kernel.accessAllowed ? 'block' : 'none';\n",
              "    })();\n",
              "  </script>\n",
              "</div>\n",
              "\n",
              "    </div>\n",
              "  </div>\n"
            ]
          },
          "metadata": {},
          "execution_count": 18
        }
      ]
    },
    {
      "cell_type": "code",
      "source": [
        "data.query('Latitude == 46.12') # Otra forma de realizar filtrados o consultas"
      ],
      "metadata": {
        "colab": {
          "base_uri": "https://localhost:8080/",
          "height": 990
        },
        "id": "ipx4__hhvecT",
        "outputId": "3f9c9417-b941-4ebd-fba9-afbfb268e48a"
      },
      "execution_count": null,
      "outputs": [
        {
          "output_type": "execute_result",
          "data": {
            "text/plain": [
              "    Number of positive case  Total number of sample  Latitude  Longitude  \\\n",
              "0                         0                     136     46.12      14.82   \n",
              "1                         0                     143     46.12      14.82   \n",
              "2                         3                     185     46.12      14.82   \n",
              "3                        27                     170     46.12      14.82   \n",
              "4                       135                     283     46.12      14.82   \n",
              "5                       235                     487     46.12      14.82   \n",
              "6                        22                     152     46.12      14.82   \n",
              "7                         3                      87     46.12      14.82   \n",
              "8                         0                      93     46.12      14.82   \n",
              "9                         0                      89     46.12      14.82   \n",
              "10                        0                      46     46.12      14.82   \n",
              "11                        0                      79     46.12      14.82   \n",
              "12                        0                     109     46.12      14.82   \n",
              "13                        0                     136     46.12      14.82   \n",
              "14                        8                     190     46.12      14.82   \n",
              "15                      174                     531     46.12      14.82   \n",
              "16                      244                     514     46.12      14.82   \n",
              "17                      147                     369     46.12      14.82   \n",
              "18                       71                     240     46.12      14.82   \n",
              "19                        5                     146     46.12      14.82   \n",
              "20                        0                      87     46.12      14.82   \n",
              "21                        0                      60     46.12      14.82   \n",
              "22                        0                      38     46.12      14.82   \n",
              "23                        0                      74     46.12      14.82   \n",
              "24                        0                     184     46.12      14.82   \n",
              "25                        0                     103     46.12      14.82   \n",
              "26                        9                     133     46.12      14.82   \n",
              "27                       80                     350     46.12      14.82   \n",
              "28                      215                     481     46.12      14.82   \n",
              "29                      108                     304     46.12      14.82   \n",
              "\n",
              "    Time index  Intercept  Temperature  Precipitation  Relative humidity  \n",
              "0           22          1          9.8          133.0           0.833607  \n",
              "1           23          1          2.9            1.0           0.917059  \n",
              "2           24          1          1.9           56.7           0.856400  \n",
              "3           25          1          0.8           26.5           0.679756  \n",
              "4           26          1         -2.5           35.4           0.767403  \n",
              "5           27          1          8.4            7.6           0.662223  \n",
              "6           28          1         10.2           97.8           0.707102  \n",
              "7           29          1         14.9          135.8           0.672805  \n",
              "8           30          1         19.8          131.3           0.662484  \n",
              "9           31          1         21.3          137.0           0.706615  \n",
              "10          32          1         21.7           63.2           0.681826  \n",
              "11          33          1         16.4          160.4           0.755924  \n",
              "12          34          1         10.8          161.2           0.818303  \n",
              "13          35          1          7.4          127.3           0.767205  \n",
              "14          36          1         -0.2           66.5           0.813999  \n",
              "15          37          1          0.3           98.5           0.784923  \n",
              "16          38          1          0.0          139.7           0.802227  \n",
              "17          39          1          3.0          149.1           0.778604  \n",
              "18          40          1         10.9           67.7           0.674840  \n",
              "19          41          1         13.8          188.6           0.779480  \n",
              "20          42          1         17.8           88.2           0.765390  \n",
              "21          43          1         21.7           39.5           0.643305  \n",
              "22          44          1         21.1          130.0           0.703347  \n",
              "23          45          1         15.1          137.7           0.786550  \n",
              "24          46          1         12.0           62.9           0.812797  \n",
              "25          47          1          6.0          216.1           0.823433  \n",
              "26          48          1          1.7           37.4           0.796369  \n",
              "27          49          1          3.3          112.8           0.684708  \n",
              "28          50          1          3.8          151.4           0.810591  \n",
              "29          51          1          8.6           32.1           0.635402  "
            ],
            "text/html": [
              "\n",
              "  <div id=\"df-b44bcf94-0f0b-474d-8757-da389c75138c\" class=\"colab-df-container\">\n",
              "    <div>\n",
              "<style scoped>\n",
              "    .dataframe tbody tr th:only-of-type {\n",
              "        vertical-align: middle;\n",
              "    }\n",
              "\n",
              "    .dataframe tbody tr th {\n",
              "        vertical-align: top;\n",
              "    }\n",
              "\n",
              "    .dataframe thead th {\n",
              "        text-align: right;\n",
              "    }\n",
              "</style>\n",
              "<table border=\"1\" class=\"dataframe\">\n",
              "  <thead>\n",
              "    <tr style=\"text-align: right;\">\n",
              "      <th></th>\n",
              "      <th>Number of positive case</th>\n",
              "      <th>Total number of sample</th>\n",
              "      <th>Latitude</th>\n",
              "      <th>Longitude</th>\n",
              "      <th>Time index</th>\n",
              "      <th>Intercept</th>\n",
              "      <th>Temperature</th>\n",
              "      <th>Precipitation</th>\n",
              "      <th>Relative humidity</th>\n",
              "    </tr>\n",
              "  </thead>\n",
              "  <tbody>\n",
              "    <tr>\n",
              "      <th>0</th>\n",
              "      <td>0</td>\n",
              "      <td>136</td>\n",
              "      <td>46.12</td>\n",
              "      <td>14.82</td>\n",
              "      <td>22</td>\n",
              "      <td>1</td>\n",
              "      <td>9.8</td>\n",
              "      <td>133.0</td>\n",
              "      <td>0.833607</td>\n",
              "    </tr>\n",
              "    <tr>\n",
              "      <th>1</th>\n",
              "      <td>0</td>\n",
              "      <td>143</td>\n",
              "      <td>46.12</td>\n",
              "      <td>14.82</td>\n",
              "      <td>23</td>\n",
              "      <td>1</td>\n",
              "      <td>2.9</td>\n",
              "      <td>1.0</td>\n",
              "      <td>0.917059</td>\n",
              "    </tr>\n",
              "    <tr>\n",
              "      <th>2</th>\n",
              "      <td>3</td>\n",
              "      <td>185</td>\n",
              "      <td>46.12</td>\n",
              "      <td>14.82</td>\n",
              "      <td>24</td>\n",
              "      <td>1</td>\n",
              "      <td>1.9</td>\n",
              "      <td>56.7</td>\n",
              "      <td>0.856400</td>\n",
              "    </tr>\n",
              "    <tr>\n",
              "      <th>3</th>\n",
              "      <td>27</td>\n",
              "      <td>170</td>\n",
              "      <td>46.12</td>\n",
              "      <td>14.82</td>\n",
              "      <td>25</td>\n",
              "      <td>1</td>\n",
              "      <td>0.8</td>\n",
              "      <td>26.5</td>\n",
              "      <td>0.679756</td>\n",
              "    </tr>\n",
              "    <tr>\n",
              "      <th>4</th>\n",
              "      <td>135</td>\n",
              "      <td>283</td>\n",
              "      <td>46.12</td>\n",
              "      <td>14.82</td>\n",
              "      <td>26</td>\n",
              "      <td>1</td>\n",
              "      <td>-2.5</td>\n",
              "      <td>35.4</td>\n",
              "      <td>0.767403</td>\n",
              "    </tr>\n",
              "    <tr>\n",
              "      <th>5</th>\n",
              "      <td>235</td>\n",
              "      <td>487</td>\n",
              "      <td>46.12</td>\n",
              "      <td>14.82</td>\n",
              "      <td>27</td>\n",
              "      <td>1</td>\n",
              "      <td>8.4</td>\n",
              "      <td>7.6</td>\n",
              "      <td>0.662223</td>\n",
              "    </tr>\n",
              "    <tr>\n",
              "      <th>6</th>\n",
              "      <td>22</td>\n",
              "      <td>152</td>\n",
              "      <td>46.12</td>\n",
              "      <td>14.82</td>\n",
              "      <td>28</td>\n",
              "      <td>1</td>\n",
              "      <td>10.2</td>\n",
              "      <td>97.8</td>\n",
              "      <td>0.707102</td>\n",
              "    </tr>\n",
              "    <tr>\n",
              "      <th>7</th>\n",
              "      <td>3</td>\n",
              "      <td>87</td>\n",
              "      <td>46.12</td>\n",
              "      <td>14.82</td>\n",
              "      <td>29</td>\n",
              "      <td>1</td>\n",
              "      <td>14.9</td>\n",
              "      <td>135.8</td>\n",
              "      <td>0.672805</td>\n",
              "    </tr>\n",
              "    <tr>\n",
              "      <th>8</th>\n",
              "      <td>0</td>\n",
              "      <td>93</td>\n",
              "      <td>46.12</td>\n",
              "      <td>14.82</td>\n",
              "      <td>30</td>\n",
              "      <td>1</td>\n",
              "      <td>19.8</td>\n",
              "      <td>131.3</td>\n",
              "      <td>0.662484</td>\n",
              "    </tr>\n",
              "    <tr>\n",
              "      <th>9</th>\n",
              "      <td>0</td>\n",
              "      <td>89</td>\n",
              "      <td>46.12</td>\n",
              "      <td>14.82</td>\n",
              "      <td>31</td>\n",
              "      <td>1</td>\n",
              "      <td>21.3</td>\n",
              "      <td>137.0</td>\n",
              "      <td>0.706615</td>\n",
              "    </tr>\n",
              "    <tr>\n",
              "      <th>10</th>\n",
              "      <td>0</td>\n",
              "      <td>46</td>\n",
              "      <td>46.12</td>\n",
              "      <td>14.82</td>\n",
              "      <td>32</td>\n",
              "      <td>1</td>\n",
              "      <td>21.7</td>\n",
              "      <td>63.2</td>\n",
              "      <td>0.681826</td>\n",
              "    </tr>\n",
              "    <tr>\n",
              "      <th>11</th>\n",
              "      <td>0</td>\n",
              "      <td>79</td>\n",
              "      <td>46.12</td>\n",
              "      <td>14.82</td>\n",
              "      <td>33</td>\n",
              "      <td>1</td>\n",
              "      <td>16.4</td>\n",
              "      <td>160.4</td>\n",
              "      <td>0.755924</td>\n",
              "    </tr>\n",
              "    <tr>\n",
              "      <th>12</th>\n",
              "      <td>0</td>\n",
              "      <td>109</td>\n",
              "      <td>46.12</td>\n",
              "      <td>14.82</td>\n",
              "      <td>34</td>\n",
              "      <td>1</td>\n",
              "      <td>10.8</td>\n",
              "      <td>161.2</td>\n",
              "      <td>0.818303</td>\n",
              "    </tr>\n",
              "    <tr>\n",
              "      <th>13</th>\n",
              "      <td>0</td>\n",
              "      <td>136</td>\n",
              "      <td>46.12</td>\n",
              "      <td>14.82</td>\n",
              "      <td>35</td>\n",
              "      <td>1</td>\n",
              "      <td>7.4</td>\n",
              "      <td>127.3</td>\n",
              "      <td>0.767205</td>\n",
              "    </tr>\n",
              "    <tr>\n",
              "      <th>14</th>\n",
              "      <td>8</td>\n",
              "      <td>190</td>\n",
              "      <td>46.12</td>\n",
              "      <td>14.82</td>\n",
              "      <td>36</td>\n",
              "      <td>1</td>\n",
              "      <td>-0.2</td>\n",
              "      <td>66.5</td>\n",
              "      <td>0.813999</td>\n",
              "    </tr>\n",
              "    <tr>\n",
              "      <th>15</th>\n",
              "      <td>174</td>\n",
              "      <td>531</td>\n",
              "      <td>46.12</td>\n",
              "      <td>14.82</td>\n",
              "      <td>37</td>\n",
              "      <td>1</td>\n",
              "      <td>0.3</td>\n",
              "      <td>98.5</td>\n",
              "      <td>0.784923</td>\n",
              "    </tr>\n",
              "    <tr>\n",
              "      <th>16</th>\n",
              "      <td>244</td>\n",
              "      <td>514</td>\n",
              "      <td>46.12</td>\n",
              "      <td>14.82</td>\n",
              "      <td>38</td>\n",
              "      <td>1</td>\n",
              "      <td>0.0</td>\n",
              "      <td>139.7</td>\n",
              "      <td>0.802227</td>\n",
              "    </tr>\n",
              "    <tr>\n",
              "      <th>17</th>\n",
              "      <td>147</td>\n",
              "      <td>369</td>\n",
              "      <td>46.12</td>\n",
              "      <td>14.82</td>\n",
              "      <td>39</td>\n",
              "      <td>1</td>\n",
              "      <td>3.0</td>\n",
              "      <td>149.1</td>\n",
              "      <td>0.778604</td>\n",
              "    </tr>\n",
              "    <tr>\n",
              "      <th>18</th>\n",
              "      <td>71</td>\n",
              "      <td>240</td>\n",
              "      <td>46.12</td>\n",
              "      <td>14.82</td>\n",
              "      <td>40</td>\n",
              "      <td>1</td>\n",
              "      <td>10.9</td>\n",
              "      <td>67.7</td>\n",
              "      <td>0.674840</td>\n",
              "    </tr>\n",
              "    <tr>\n",
              "      <th>19</th>\n",
              "      <td>5</td>\n",
              "      <td>146</td>\n",
              "      <td>46.12</td>\n",
              "      <td>14.82</td>\n",
              "      <td>41</td>\n",
              "      <td>1</td>\n",
              "      <td>13.8</td>\n",
              "      <td>188.6</td>\n",
              "      <td>0.779480</td>\n",
              "    </tr>\n",
              "    <tr>\n",
              "      <th>20</th>\n",
              "      <td>0</td>\n",
              "      <td>87</td>\n",
              "      <td>46.12</td>\n",
              "      <td>14.82</td>\n",
              "      <td>42</td>\n",
              "      <td>1</td>\n",
              "      <td>17.8</td>\n",
              "      <td>88.2</td>\n",
              "      <td>0.765390</td>\n",
              "    </tr>\n",
              "    <tr>\n",
              "      <th>21</th>\n",
              "      <td>0</td>\n",
              "      <td>60</td>\n",
              "      <td>46.12</td>\n",
              "      <td>14.82</td>\n",
              "      <td>43</td>\n",
              "      <td>1</td>\n",
              "      <td>21.7</td>\n",
              "      <td>39.5</td>\n",
              "      <td>0.643305</td>\n",
              "    </tr>\n",
              "    <tr>\n",
              "      <th>22</th>\n",
              "      <td>0</td>\n",
              "      <td>38</td>\n",
              "      <td>46.12</td>\n",
              "      <td>14.82</td>\n",
              "      <td>44</td>\n",
              "      <td>1</td>\n",
              "      <td>21.1</td>\n",
              "      <td>130.0</td>\n",
              "      <td>0.703347</td>\n",
              "    </tr>\n",
              "    <tr>\n",
              "      <th>23</th>\n",
              "      <td>0</td>\n",
              "      <td>74</td>\n",
              "      <td>46.12</td>\n",
              "      <td>14.82</td>\n",
              "      <td>45</td>\n",
              "      <td>1</td>\n",
              "      <td>15.1</td>\n",
              "      <td>137.7</td>\n",
              "      <td>0.786550</td>\n",
              "    </tr>\n",
              "    <tr>\n",
              "      <th>24</th>\n",
              "      <td>0</td>\n",
              "      <td>184</td>\n",
              "      <td>46.12</td>\n",
              "      <td>14.82</td>\n",
              "      <td>46</td>\n",
              "      <td>1</td>\n",
              "      <td>12.0</td>\n",
              "      <td>62.9</td>\n",
              "      <td>0.812797</td>\n",
              "    </tr>\n",
              "    <tr>\n",
              "      <th>25</th>\n",
              "      <td>0</td>\n",
              "      <td>103</td>\n",
              "      <td>46.12</td>\n",
              "      <td>14.82</td>\n",
              "      <td>47</td>\n",
              "      <td>1</td>\n",
              "      <td>6.0</td>\n",
              "      <td>216.1</td>\n",
              "      <td>0.823433</td>\n",
              "    </tr>\n",
              "    <tr>\n",
              "      <th>26</th>\n",
              "      <td>9</td>\n",
              "      <td>133</td>\n",
              "      <td>46.12</td>\n",
              "      <td>14.82</td>\n",
              "      <td>48</td>\n",
              "      <td>1</td>\n",
              "      <td>1.7</td>\n",
              "      <td>37.4</td>\n",
              "      <td>0.796369</td>\n",
              "    </tr>\n",
              "    <tr>\n",
              "      <th>27</th>\n",
              "      <td>80</td>\n",
              "      <td>350</td>\n",
              "      <td>46.12</td>\n",
              "      <td>14.82</td>\n",
              "      <td>49</td>\n",
              "      <td>1</td>\n",
              "      <td>3.3</td>\n",
              "      <td>112.8</td>\n",
              "      <td>0.684708</td>\n",
              "    </tr>\n",
              "    <tr>\n",
              "      <th>28</th>\n",
              "      <td>215</td>\n",
              "      <td>481</td>\n",
              "      <td>46.12</td>\n",
              "      <td>14.82</td>\n",
              "      <td>50</td>\n",
              "      <td>1</td>\n",
              "      <td>3.8</td>\n",
              "      <td>151.4</td>\n",
              "      <td>0.810591</td>\n",
              "    </tr>\n",
              "    <tr>\n",
              "      <th>29</th>\n",
              "      <td>108</td>\n",
              "      <td>304</td>\n",
              "      <td>46.12</td>\n",
              "      <td>14.82</td>\n",
              "      <td>51</td>\n",
              "      <td>1</td>\n",
              "      <td>8.6</td>\n",
              "      <td>32.1</td>\n",
              "      <td>0.635402</td>\n",
              "    </tr>\n",
              "  </tbody>\n",
              "</table>\n",
              "</div>\n",
              "    <div class=\"colab-df-buttons\">\n",
              "\n",
              "  <div class=\"colab-df-container\">\n",
              "    <button class=\"colab-df-convert\" onclick=\"convertToInteractive('df-b44bcf94-0f0b-474d-8757-da389c75138c')\"\n",
              "            title=\"Convert this dataframe to an interactive table.\"\n",
              "            style=\"display:none;\">\n",
              "\n",
              "  <svg xmlns=\"http://www.w3.org/2000/svg\" height=\"24px\" viewBox=\"0 -960 960 960\">\n",
              "    <path d=\"M120-120v-720h720v720H120Zm60-500h600v-160H180v160Zm220 220h160v-160H400v160Zm0 220h160v-160H400v160ZM180-400h160v-160H180v160Zm440 0h160v-160H620v160ZM180-180h160v-160H180v160Zm440 0h160v-160H620v160Z\"/>\n",
              "  </svg>\n",
              "    </button>\n",
              "\n",
              "  <style>\n",
              "    .colab-df-container {\n",
              "      display:flex;\n",
              "      gap: 12px;\n",
              "    }\n",
              "\n",
              "    .colab-df-convert {\n",
              "      background-color: #E8F0FE;\n",
              "      border: none;\n",
              "      border-radius: 50%;\n",
              "      cursor: pointer;\n",
              "      display: none;\n",
              "      fill: #1967D2;\n",
              "      height: 32px;\n",
              "      padding: 0 0 0 0;\n",
              "      width: 32px;\n",
              "    }\n",
              "\n",
              "    .colab-df-convert:hover {\n",
              "      background-color: #E2EBFA;\n",
              "      box-shadow: 0px 1px 2px rgba(60, 64, 67, 0.3), 0px 1px 3px 1px rgba(60, 64, 67, 0.15);\n",
              "      fill: #174EA6;\n",
              "    }\n",
              "\n",
              "    .colab-df-buttons div {\n",
              "      margin-bottom: 4px;\n",
              "    }\n",
              "\n",
              "    [theme=dark] .colab-df-convert {\n",
              "      background-color: #3B4455;\n",
              "      fill: #D2E3FC;\n",
              "    }\n",
              "\n",
              "    [theme=dark] .colab-df-convert:hover {\n",
              "      background-color: #434B5C;\n",
              "      box-shadow: 0px 1px 3px 1px rgba(0, 0, 0, 0.15);\n",
              "      filter: drop-shadow(0px 1px 2px rgba(0, 0, 0, 0.3));\n",
              "      fill: #FFFFFF;\n",
              "    }\n",
              "  </style>\n",
              "\n",
              "    <script>\n",
              "      const buttonEl =\n",
              "        document.querySelector('#df-b44bcf94-0f0b-474d-8757-da389c75138c button.colab-df-convert');\n",
              "      buttonEl.style.display =\n",
              "        google.colab.kernel.accessAllowed ? 'block' : 'none';\n",
              "\n",
              "      async function convertToInteractive(key) {\n",
              "        const element = document.querySelector('#df-b44bcf94-0f0b-474d-8757-da389c75138c');\n",
              "        const dataTable =\n",
              "          await google.colab.kernel.invokeFunction('convertToInteractive',\n",
              "                                                    [key], {});\n",
              "        if (!dataTable) return;\n",
              "\n",
              "        const docLinkHtml = 'Like what you see? Visit the ' +\n",
              "          '<a target=\"_blank\" href=https://colab.research.google.com/notebooks/data_table.ipynb>data table notebook</a>'\n",
              "          + ' to learn more about interactive tables.';\n",
              "        element.innerHTML = '';\n",
              "        dataTable['output_type'] = 'display_data';\n",
              "        await google.colab.output.renderOutput(dataTable, element);\n",
              "        const docLink = document.createElement('div');\n",
              "        docLink.innerHTML = docLinkHtml;\n",
              "        element.appendChild(docLink);\n",
              "      }\n",
              "    </script>\n",
              "  </div>\n",
              "\n",
              "\n",
              "<div id=\"df-6f00ca06-3048-4d1d-aafb-d5ea951f45ac\">\n",
              "  <button class=\"colab-df-quickchart\" onclick=\"quickchart('df-6f00ca06-3048-4d1d-aafb-d5ea951f45ac')\"\n",
              "            title=\"Suggest charts\"\n",
              "            style=\"display:none;\">\n",
              "\n",
              "<svg xmlns=\"http://www.w3.org/2000/svg\" height=\"24px\"viewBox=\"0 0 24 24\"\n",
              "     width=\"24px\">\n",
              "    <g>\n",
              "        <path d=\"M19 3H5c-1.1 0-2 .9-2 2v14c0 1.1.9 2 2 2h14c1.1 0 2-.9 2-2V5c0-1.1-.9-2-2-2zM9 17H7v-7h2v7zm4 0h-2V7h2v10zm4 0h-2v-4h2v4z\"/>\n",
              "    </g>\n",
              "</svg>\n",
              "  </button>\n",
              "\n",
              "<style>\n",
              "  .colab-df-quickchart {\n",
              "      --bg-color: #E8F0FE;\n",
              "      --fill-color: #1967D2;\n",
              "      --hover-bg-color: #E2EBFA;\n",
              "      --hover-fill-color: #174EA6;\n",
              "      --disabled-fill-color: #AAA;\n",
              "      --disabled-bg-color: #DDD;\n",
              "  }\n",
              "\n",
              "  [theme=dark] .colab-df-quickchart {\n",
              "      --bg-color: #3B4455;\n",
              "      --fill-color: #D2E3FC;\n",
              "      --hover-bg-color: #434B5C;\n",
              "      --hover-fill-color: #FFFFFF;\n",
              "      --disabled-bg-color: #3B4455;\n",
              "      --disabled-fill-color: #666;\n",
              "  }\n",
              "\n",
              "  .colab-df-quickchart {\n",
              "    background-color: var(--bg-color);\n",
              "    border: none;\n",
              "    border-radius: 50%;\n",
              "    cursor: pointer;\n",
              "    display: none;\n",
              "    fill: var(--fill-color);\n",
              "    height: 32px;\n",
              "    padding: 0;\n",
              "    width: 32px;\n",
              "  }\n",
              "\n",
              "  .colab-df-quickchart:hover {\n",
              "    background-color: var(--hover-bg-color);\n",
              "    box-shadow: 0 1px 2px rgba(60, 64, 67, 0.3), 0 1px 3px 1px rgba(60, 64, 67, 0.15);\n",
              "    fill: var(--button-hover-fill-color);\n",
              "  }\n",
              "\n",
              "  .colab-df-quickchart-complete:disabled,\n",
              "  .colab-df-quickchart-complete:disabled:hover {\n",
              "    background-color: var(--disabled-bg-color);\n",
              "    fill: var(--disabled-fill-color);\n",
              "    box-shadow: none;\n",
              "  }\n",
              "\n",
              "  .colab-df-spinner {\n",
              "    border: 2px solid var(--fill-color);\n",
              "    border-color: transparent;\n",
              "    border-bottom-color: var(--fill-color);\n",
              "    animation:\n",
              "      spin 1s steps(1) infinite;\n",
              "  }\n",
              "\n",
              "  @keyframes spin {\n",
              "    0% {\n",
              "      border-color: transparent;\n",
              "      border-bottom-color: var(--fill-color);\n",
              "      border-left-color: var(--fill-color);\n",
              "    }\n",
              "    20% {\n",
              "      border-color: transparent;\n",
              "      border-left-color: var(--fill-color);\n",
              "      border-top-color: var(--fill-color);\n",
              "    }\n",
              "    30% {\n",
              "      border-color: transparent;\n",
              "      border-left-color: var(--fill-color);\n",
              "      border-top-color: var(--fill-color);\n",
              "      border-right-color: var(--fill-color);\n",
              "    }\n",
              "    40% {\n",
              "      border-color: transparent;\n",
              "      border-right-color: var(--fill-color);\n",
              "      border-top-color: var(--fill-color);\n",
              "    }\n",
              "    60% {\n",
              "      border-color: transparent;\n",
              "      border-right-color: var(--fill-color);\n",
              "    }\n",
              "    80% {\n",
              "      border-color: transparent;\n",
              "      border-right-color: var(--fill-color);\n",
              "      border-bottom-color: var(--fill-color);\n",
              "    }\n",
              "    90% {\n",
              "      border-color: transparent;\n",
              "      border-bottom-color: var(--fill-color);\n",
              "    }\n",
              "  }\n",
              "</style>\n",
              "\n",
              "  <script>\n",
              "    async function quickchart(key) {\n",
              "      const quickchartButtonEl =\n",
              "        document.querySelector('#' + key + ' button');\n",
              "      quickchartButtonEl.disabled = true;  // To prevent multiple clicks.\n",
              "      quickchartButtonEl.classList.add('colab-df-spinner');\n",
              "      try {\n",
              "        const charts = await google.colab.kernel.invokeFunction(\n",
              "            'suggestCharts', [key], {});\n",
              "      } catch (error) {\n",
              "        console.error('Error during call to suggestCharts:', error);\n",
              "      }\n",
              "      quickchartButtonEl.classList.remove('colab-df-spinner');\n",
              "      quickchartButtonEl.classList.add('colab-df-quickchart-complete');\n",
              "    }\n",
              "    (() => {\n",
              "      let quickchartButtonEl =\n",
              "        document.querySelector('#df-6f00ca06-3048-4d1d-aafb-d5ea951f45ac button');\n",
              "      quickchartButtonEl.style.display =\n",
              "        google.colab.kernel.accessAllowed ? 'block' : 'none';\n",
              "    })();\n",
              "  </script>\n",
              "</div>\n",
              "\n",
              "    </div>\n",
              "  </div>\n"
            ]
          },
          "metadata": {},
          "execution_count": 19
        }
      ]
    },
    {
      "cell_type": "code",
      "source": [
        "data.info()"
      ],
      "metadata": {
        "id": "CwuKSUthZNNe",
        "colab": {
          "base_uri": "https://localhost:8080/"
        },
        "outputId": "8740fcd9-a389-48c5-bd86-ed6a9c6de545"
      },
      "execution_count": null,
      "outputs": [
        {
          "output_type": "stream",
          "name": "stdout",
          "text": [
            "<class 'pandas.core.frame.DataFrame'>\n",
            "RangeIndex: 593 entries, 0 to 592\n",
            "Data columns (total 9 columns):\n",
            " #   Column                   Non-Null Count  Dtype  \n",
            "---  ------                   --------------  -----  \n",
            " 0   Number of positive case  593 non-null    int64  \n",
            " 1   Total number of sample   593 non-null    int64  \n",
            " 2   Latitude                 593 non-null    float64\n",
            " 3   Longitude                593 non-null    float64\n",
            " 4   Time index               593 non-null    int64  \n",
            " 5   Intercept                593 non-null    int64  \n",
            " 6   Temperature              593 non-null    float64\n",
            " 7   Precipitation            593 non-null    float64\n",
            " 8   Relative humidity        593 non-null    float64\n",
            "dtypes: float64(5), int64(4)\n",
            "memory usage: 41.8 KB\n"
          ]
        }
      ]
    },
    {
      "cell_type": "code",
      "source": [
        "g_y = data['Number of positive case'].values.reshape(-1,1) # Si no especifico el reshape obtejno un array unidimensional, con el reshape obtengo una matriz\n",
        "print(g_y.shape)\n",
        "\n",
        "g_X = data[['Temperature','Precipitation']].values\n",
        "print(g_X.shape)\n",
        "\n",
        "g_N = data['Total number of sample'].values\n",
        "\n",
        "u = data['Latitude']\n",
        "v = data['Longitude']\n",
        "g_coords = np.array(list(zip(u, v)))\n",
        "print(g_coords.shape)"
      ],
      "metadata": {
        "id": "OSbbgTCyeN5a",
        "colab": {
          "base_uri": "https://localhost:8080/"
        },
        "outputId": "d179d9df-a69e-4847-b3eb-7abc4a5a1da3"
      },
      "execution_count": null,
      "outputs": [
        {
          "output_type": "stream",
          "name": "stdout",
          "text": [
            "(593, 1)\n",
            "(593, 2)\n",
            "(593, 2)\n"
          ]
        }
      ]
    },
    {
      "cell_type": "code",
      "source": [
        "g_y_test = data['Number of positive case'].values"
      ],
      "metadata": {
        "id": "Xcsd16ueK7He"
      },
      "execution_count": null,
      "outputs": []
    },
    {
      "cell_type": "code",
      "source": [
        "print(g_y_test.shape)"
      ],
      "metadata": {
        "colab": {
          "base_uri": "https://localhost:8080/"
        },
        "id": "6n3wkWc4LAVi",
        "outputId": "8589981d-b5a2-401e-f7f4-7b7941407269"
      },
      "execution_count": null,
      "outputs": [
        {
          "output_type": "stream",
          "name": "stdout",
          "text": [
            "(593,)\n"
          ]
        }
      ]
    },
    {
      "cell_type": "code",
      "source": [
        "location = data[['Latitude','Longitude']].drop_duplicates(subset=['Latitude','Longitude'])\n",
        "#number of locations\n",
        "num_location = location.shape[0]\n",
        "print(num_location)\n",
        "#add main key to location table\n",
        "location['index']=range(num_location)\n",
        "print(location)"
      ],
      "metadata": {
        "id": "FBei1YWnZSLA",
        "colab": {
          "base_uri": "https://localhost:8080/"
        },
        "outputId": "9fd78952-3d52-4d1d-d871-b0aae7fd0a82"
      },
      "execution_count": null,
      "outputs": [
        {
          "output_type": "stream",
          "name": "stdout",
          "text": [
            "22\n",
            "     Latitude  Longitude  index\n",
            "0       46.12      14.82      0\n",
            "30      48.67      19.50      1\n",
            "60      52.00      20.00      2\n",
            "90      47.33      13.33      3\n",
            "120     50.83       4.00      4\n",
            "147     44.00      18.00      5\n",
            "162     51.00       9.00      6\n",
            "192     46.00       2.00      7\n",
            "222     52.50       5.75      8\n",
            "252     49.75      15.50      9\n",
            "275     45.17      15.50     10\n",
            "297     49.75       6.17     11\n",
            "319     46.00      25.00     12\n",
            "346     47.00      20.00     13\n",
            "368     42.83      12.83     14\n",
            "385     54.00      -2.00     15\n",
            "415     13.00     105.00     16\n",
            "445     18.00     105.00     17\n",
            "475     15.00     100.00     18\n",
            "505      1.37     103.80     19\n",
            "533     16.17     107.83     20\n",
            "563      2.50     112.50     21\n"
          ]
        }
      ]
    },
    {
      "cell_type": "code",
      "source": [
        "lat = location['Latitude']\n",
        "lon = location['Longitude']\n",
        "loc = np.array(list(zip(lat, lon)))\n",
        "loc"
      ],
      "metadata": {
        "id": "jSexzI3eaz21",
        "colab": {
          "base_uri": "https://localhost:8080/"
        },
        "outputId": "b891a5b1-9d4d-4fc1-f8da-fd0600e252d0"
      },
      "execution_count": null,
      "outputs": [
        {
          "output_type": "execute_result",
          "data": {
            "text/plain": [
              "array([[ 46.12,  14.82],\n",
              "       [ 48.67,  19.5 ],\n",
              "       [ 52.  ,  20.  ],\n",
              "       [ 47.33,  13.33],\n",
              "       [ 50.83,   4.  ],\n",
              "       [ 44.  ,  18.  ],\n",
              "       [ 51.  ,   9.  ],\n",
              "       [ 46.  ,   2.  ],\n",
              "       [ 52.5 ,   5.75],\n",
              "       [ 49.75,  15.5 ],\n",
              "       [ 45.17,  15.5 ],\n",
              "       [ 49.75,   6.17],\n",
              "       [ 46.  ,  25.  ],\n",
              "       [ 47.  ,  20.  ],\n",
              "       [ 42.83,  12.83],\n",
              "       [ 54.  ,  -2.  ],\n",
              "       [ 13.  , 105.  ],\n",
              "       [ 18.  , 105.  ],\n",
              "       [ 15.  , 100.  ],\n",
              "       [  1.37, 103.8 ],\n",
              "       [ 16.17, 107.83],\n",
              "       [  2.5 , 112.5 ]])"
            ]
          },
          "metadata": {},
          "execution_count": 25
        }
      ]
    },
    {
      "cell_type": "code",
      "source": [
        "loc.shape"
      ],
      "metadata": {
        "colab": {
          "base_uri": "https://localhost:8080/"
        },
        "id": "iUbcYNItweoM",
        "outputId": "46adc849-d50c-4761-da67-1198364918d4"
      },
      "execution_count": null,
      "outputs": [
        {
          "output_type": "execute_result",
          "data": {
            "text/plain": [
              "(22, 2)"
            ]
          },
          "metadata": {},
          "execution_count": 26
        }
      ]
    },
    {
      "cell_type": "code",
      "source": [
        "geometry = [Point(xy) for xy in zip(data['Longitude'],data['Latitude'])]\n",
        "crs = {'init' : 'epsg:4326'}\n",
        "geo_df = gpd.GeoDataFrame(data, crs = crs, geometry = geometry)\n",
        "\n",
        "world = gpd.read_file(gpd.datasets.get_path('naturalearth_lowres'))\n",
        "conts = world.loc[world.continent.isin(['Asia','Europe'])]\n",
        "boundaries = conts['geometry']\n",
        "\n",
        "fig , ax = plt.subplots(figsize=(15,15))\n",
        "boundaries.plot(ax=ax, alpha=0.8)\n",
        "geo_df[geo_df['Longitude'] > 90 ].plot(ax=ax, marker='o', color='red', markersize=50);\n",
        "geo_df[geo_df['Longitude'] <= 90 ].plot(ax=ax, marker='o', color='green', markersize=50);\n",
        "plt.xlim(-25,150)\n"
      ],
      "metadata": {
        "id": "vmHWx9KG7fBd",
        "colab": {
          "base_uri": "https://localhost:8080/",
          "height": 1000
        },
        "outputId": "bc5ea71c-b8e2-427f-a0e5-3e871c7350ed"
      },
      "execution_count": null,
      "outputs": [
        {
          "output_type": "stream",
          "name": "stderr",
          "text": [
            "/usr/local/lib/python3.10/dist-packages/pyproj/crs/crs.py:141: FutureWarning: '+init=<authority>:<code>' syntax is deprecated. '<authority>:<code>' is the preferred initialization method. When making the change, be mindful of axis order changes: https://pyproj4.github.io/pyproj/stable/gotchas.html#axis-order-changes-in-proj-6\n",
            "  in_crs_string = _prepare_from_proj_string(in_crs_string)\n",
            "<ipython-input-27-411e9fd0867e>:5: FutureWarning: The geopandas.dataset module is deprecated and will be removed in GeoPandas 1.0. You can get the original 'naturalearth_lowres' data from https://www.naturalearthdata.com/downloads/110m-cultural-vectors/.\n",
            "  world = gpd.read_file(gpd.datasets.get_path('naturalearth_lowres'))\n"
          ]
        },
        {
          "output_type": "execute_result",
          "data": {
            "text/plain": [
              "(-25.0, 150.0)"
            ]
          },
          "metadata": {},
          "execution_count": 27
        },
        {
          "output_type": "display_data",
          "data": {
            "text/plain": [
              "<Figure size 1500x1500 with 1 Axes>"
            ],
            "image/png": "[encoded data removed]"
          },
          "metadata": {}
        }
      ]
    },
    {
      "cell_type": "markdown",
      "source": [
        "## Geographically Weighted Regression (GWR)"
      ],
      "metadata": {
        "id": "06P8hCGkn21i"
      }
    },
    {
      "cell_type": "markdown",
      "source": [
        "Seleccionamos el Bandwidth:\n",
        "\n",
        "Kernels disponibles:\n",
        "\n",
        "*  Gaussian: kernel=‘gaussian’ (default)\n",
        "*  Exponential: kernel=‘exponential’\n",
        "*  Bi-square: kernel=‘bisquare’\n",
        "\n",
        "\n",
        "Criterios disponibles:\n",
        "*   Cross-validation: criterion=‘CV’\n",
        "*   Akaike information criterion: criterion = ‘AIC’\n",
        "*   Corrected AIC: criterion = ‘AICc’ (default)\n",
        "*   Bayesian information criterion: criterion = ‘BIC’\n",
        "\n",
        "\n"
      ],
      "metadata": {
        "id": "_eQe_d7GjOVO"
      }
    },
    {
      "cell_type": "code",
      "source": [
        "# Esto es para definir el bandwidth\n",
        "gwr_selector = Sel_BW(g_coords, g_y, g_X)\n",
        "sel = gwr_selector.search()\n",
        "sel"
      ],
      "metadata": {
        "id": "cZH7vZaHeqkn",
        "colab": {
          "base_uri": "https://localhost:8080/"
        },
        "outputId": "d0f1e5a9-49ed-4e2f-c6cc-3b9fc15441bd"
      },
      "execution_count": null,
      "outputs": [
        {
          "output_type": "execute_result",
          "data": {
            "text/plain": [
              "72.0"
            ]
          },
          "metadata": {},
          "execution_count": 28
        }
      ]
    },
    {
      "cell_type": "code",
      "source": [
        "model = GWR(g_coords, g_y, g_X, sel)\n",
        "gwr_results = model.fit()\n",
        "gwr_results.summary()"
      ],
      "metadata": {
        "id": "t6vBLhEJfIDc",
        "colab": {
          "base_uri": "https://localhost:8080/"
        },
        "outputId": "a7823685-c304-4006-f1a5-26f066f3912c"
      },
      "execution_count": null,
      "outputs": [
        {
          "output_type": "stream",
          "name": "stdout",
          "text": [
            "===========================================================================\n",
            "Model type                                                         Gaussian\n",
            "Number of observations:                                                 593\n",
            "Number of covariates:                                                     3\n",
            "\n",
            "Global Regression Results\n",
            "---------------------------------------------------------------------------\n",
            "Residual sum of squares:                                       82092440.034\n",
            "Log-likelihood:                                                   -4351.446\n",
            "AIC:                                                               8708.891\n",
            "AICc:                                                              8710.959\n",
            "BIC:                                                           82088672.770\n",
            "R2:                                                                   0.049\n",
            "Adj. R2:                                                              0.046\n",
            "\n",
            "Variable                              Est.         SE  t(Est/SE)    p-value\n",
            "------------------------------- ---------- ---------- ---------- ----------\n",
            "X0                                 221.492     26.981      8.209      0.000\n",
            "X1                                  -9.817      1.848     -5.312      0.000\n",
            "X2                                   0.299      0.194      1.542      0.123\n",
            "\n",
            "Geographically Weighted Regression (GWR) Results\n",
            "---------------------------------------------------------------------------\n",
            "Spatial kernel:                                           Adaptive bisquare\n",
            "Bandwidth used:                                                      72.000\n",
            "\n",
            "Diagnostic information\n",
            "---------------------------------------------------------------------------\n",
            "Residual sum of squares:                                       35913746.061\n",
            "Effective number of parameters (trace(S)):                           51.934\n",
            "Degree of freedom (n - trace(S)):                                   541.066\n",
            "Sigma estimate:                                                     257.635\n",
            "Log-likelihood:                                                   -4106.321\n",
            "AIC:                                                               8318.511\n",
            "AICc:                                                              8329.103\n",
            "BIC:                                                               8550.637\n",
            "R2:                                                                   0.584\n",
            "Adjusted R2:                                                          0.544\n",
            "Adj. alpha (95%):                                                     0.003\n",
            "Adj. critical t value (95%):                                          2.992\n",
            "\n",
            "Summary Statistics For GWR Parameter Estimates\n",
            "---------------------------------------------------------------------------\n",
            "Variable                   Mean        STD        Min     Median        Max\n",
            "-------------------- ---------- ---------- ---------- ---------- ----------\n",
            "X0                      342.571    816.852   -636.574    110.150   3269.909\n",
            "X1                      -18.018     39.739   -145.317     -7.491     23.999\n",
            "X2                       -0.912      2.831    -12.486     -0.019      1.038\n",
            "===========================================================================\n",
            "\n"
          ]
        }
      ]
    },
    {
      "cell_type": "markdown",
      "source": [
        "$\\beta_{0}(Lat,Lon) + \\beta_{1}(Lat,Lon) * Temperatura + \\beta_{2}(Lat,Lon) * Humedad$\n"
      ],
      "metadata": {
        "id": "FWkrFlctzArP"
      }
    },
    {
      "cell_type": "code",
      "source": [
        "gwr_results.params"
      ],
      "metadata": {
        "id": "oEvEpySA0eHR",
        "colab": {
          "base_uri": "https://localhost:8080/"
        },
        "outputId": "e09ac202-0446-45fb-c794-48848466cc01"
      },
      "execution_count": null,
      "outputs": [
        {
          "output_type": "execute_result",
          "data": {
            "text/plain": [
              "array([[ 1.10150412e+02, -6.25908141e+00,  1.07791597e-01],\n",
              "       [ 1.10150412e+02, -6.25908141e+00,  1.07791597e-01],\n",
              "       [ 1.10150412e+02, -6.25908141e+00,  1.07791597e-01],\n",
              "       ...,\n",
              "       [-6.36573667e+02,  2.39994837e+01,  8.93629396e-02],\n",
              "       [-6.36573667e+02,  2.39994837e+01,  8.93629396e-02],\n",
              "       [-6.36573667e+02,  2.39994837e+01,  8.93629396e-02]])"
            ]
          },
          "metadata": {},
          "execution_count": 30
        }
      ]
    },
    {
      "cell_type": "code",
      "source": [
        "# Esto son las betas or hospial, es decir, por (lat,lon)\n",
        "gwr_results.params.shape"
      ],
      "metadata": {
        "colab": {
          "base_uri": "https://localhost:8080/"
        },
        "id": "x9IB5T70zWVV",
        "outputId": "8c1a123b-7a1d-4722-ac96-ce01ac470f6a"
      },
      "execution_count": null,
      "outputs": [
        {
          "output_type": "execute_result",
          "data": {
            "text/plain": [
              "(593, 3)"
            ]
          },
          "metadata": {},
          "execution_count": 31
        }
      ]
    },
    {
      "cell_type": "markdown",
      "source": [
        "Predicciones"
      ],
      "metadata": {
        "id": "g6xa6WslaY6i"
      }
    },
    {
      "cell_type": "code",
      "source": [
        "scale = gwr_results.scale\n",
        "residuals = gwr_results.resid_response\n",
        "\n",
        "pred_results = model.predict(g_coords, g_X, scale, residuals)"
      ],
      "metadata": {
        "id": "z0M04zTnh_5P"
      },
      "execution_count": null,
      "outputs": []
    },
    {
      "cell_type": "code",
      "source": [
        "np.dot(np.array([ 1.10150412e+02, -6.25908141e+00,  1.07791597e-01]),np.array([1, 9.8, 133.0]))"
      ],
      "metadata": {
        "colab": {
          "base_uri": "https://localhost:8080/"
        },
        "id": "ogEuwplK0BXB",
        "outputId": "69175809-7084-4bd3-8bdf-3c0f0ca4c335"
      },
      "execution_count": null,
      "outputs": [
        {
          "output_type": "execute_result",
          "data": {
            "text/plain": [
              "63.14769658299999"
            ]
          },
          "metadata": {},
          "execution_count": 33
        }
      ]
    },
    {
      "cell_type": "code",
      "source": [
        "pred_results.predictions[:50]"
      ],
      "metadata": {
        "id": "9jROzNnBDpuF",
        "colab": {
          "base_uri": "https://localhost:8080/"
        },
        "outputId": "c1b44056-b1b2-45a4-f0b1-82535f1e31b9"
      },
      "execution_count": null,
      "outputs": [
        {
          "output_type": "execute_result",
          "data": {
            "text/plain": [
              "array([[ 63.14769633],\n",
              "       [ 92.10686723],\n",
              "       [104.3699406 ],\n",
              "       [107.99962392],\n",
              "       [129.61393779],\n",
              "       [ 58.39334401],\n",
              "       [ 56.84979954],\n",
              "       [ 31.5281976 ],\n",
              "       [  0.3736365 ],\n",
              "       [ -8.40057351],\n",
              "       [-18.85922595],\n",
              "       [ 24.79124878],\n",
              "       [ 59.92833796],\n",
              "       [ 77.55507961],\n",
              "       [118.57036922],\n",
              "       [118.89015963],\n",
              "       [125.20889786],\n",
              "       [107.44489464],\n",
              "       [ 49.22391548],\n",
              "       [ 44.10458349],\n",
              "       [  8.24598148],\n",
              "       [-21.4138868 ],\n",
              "       [ -7.90329841],\n",
              "       [ 30.48118536],\n",
              "       [ 41.82152626],\n",
              "       [ 95.88968742],\n",
              "       [103.54137906],\n",
              "       [101.65433523],\n",
              "       [102.68555018],\n",
              "       [ 59.78242186],\n",
              "       [ 24.04991285],\n",
              "       [ 39.74375563],\n",
              "       [ 45.83881866],\n",
              "       [ 53.55261361],\n",
              "       [ 61.62978936],\n",
              "       [ 30.70889634],\n",
              "       [ 22.82597644],\n",
              "       [  7.71685931],\n",
              "       [  8.37121003],\n",
              "       [  4.58363053],\n",
              "       [ -5.32918956],\n",
              "       [  6.40506495],\n",
              "       [ 29.24167509],\n",
              "       [ 31.81798818],\n",
              "       [ 55.79345823],\n",
              "       [ 59.45908603],\n",
              "       [ 51.36604938],\n",
              "       [ 50.0349941 ],\n",
              "       [ 20.82285379],\n",
              "       [ 18.88358862]])"
            ]
          },
          "metadata": {},
          "execution_count": 34
        }
      ]
    },
    {
      "cell_type": "code",
      "source": [
        "plt.plot(range(len(g_y)),g_y, color='orange')\n",
        "plt.plot(range(len(g_y)),pred_results.predictions)\n",
        "plt.show()"
      ],
      "metadata": {
        "id": "stv4rE5fZtJ8",
        "colab": {
          "base_uri": "https://localhost:8080/",
          "height": 432
        },
        "outputId": "006e024e-a168-4cf8-fce3-6d6ad072cba5"
      },
      "execution_count": null,
      "outputs": [
        {
          "output_type": "display_data",
          "data": {
            "text/plain": [
              "<Figure size 640x480 with 1 Axes>"
            ],
            "image/png": "[encoded data removed]"
          },
          "metadata": {}
        }
      ]
    },
    {
      "cell_type": "markdown",
      "source": [
        "## Caso Poisson"
      ],
      "metadata": {
        "id": "WeZrWFJny5Tp"
      }
    },
    {
      "cell_type": "code",
      "source": [
        "gwr_selector = Sel_BW(g_coords, g_y, g_X, family = Poisson())\n",
        "sel = gwr_selector.search()\n",
        "sel"
      ],
      "metadata": {
        "id": "rUfCfp4z5a01",
        "colab": {
          "base_uri": "https://localhost:8080/"
        },
        "outputId": "e72c414a-8a2a-4666-9d41-986800f886e2"
      },
      "execution_count": null,
      "outputs": [
        {
          "output_type": "execute_result",
          "data": {
            "text/plain": [
              "48.0"
            ]
          },
          "metadata": {},
          "execution_count": 35
        }
      ]
    },
    {
      "cell_type": "code",
      "source": [
        "model = GWR(g_coords, g_y, g_X, sel, family = Poisson())\n",
        "gwr_results = model.fit()\n",
        "gwr_results.summary()"
      ],
      "metadata": {
        "id": "NVhi0So65yb_",
        "colab": {
          "base_uri": "https://localhost:8080/"
        },
        "outputId": "6345cbb4-5515-4682-c0cb-808ec7617d33"
      },
      "execution_count": null,
      "outputs": [
        {
          "output_type": "stream",
          "name": "stdout",
          "text": [
            "===========================================================================\n",
            "Model type                                                          Poisson\n",
            "Number of observations:                                                 593\n",
            "Number of covariates:                                                     3\n",
            "\n",
            "Global Regression Results\n",
            "---------------------------------------------------------------------------\n",
            "Deviance:                                                        195595.276\n",
            "Log-likelihood:                                                  -99080.263\n",
            "AIC:                                                             198166.527\n",
            "AICc:                                                            195601.317\n",
            "BIC:                                                             191828.011\n",
            "Percent deviance explained:                                           0.161\n",
            "Adj. percent deviance explained:                                      0.158\n",
            "\n",
            "Variable                              Est.         SE  t(Est/SE)    p-value\n",
            "------------------------------- ---------- ---------- ---------- ----------\n",
            "X0                                   5.417      0.006    940.973      0.000\n",
            "X1                                  -0.093      0.001   -170.099      0.000\n",
            "X2                                   0.003      0.000     54.262      0.000\n",
            "\n",
            "Geographically Weighted Regression (GWR) Results\n",
            "---------------------------------------------------------------------------\n",
            "Spatial kernel:                                           Adaptive bisquare\n",
            "Bandwidth used:                                                      48.000\n",
            "\n",
            "Diagnostic information\n",
            "---------------------------------------------------------------------------\n",
            "Effective number of parameters (trace(S)):                           64.899\n",
            "Degree of freedom (n - trace(S)):                                   528.101\n",
            "Log-likelihood:                                                  -32128.473\n",
            "AIC:                                                              61821.493\n",
            "AICc:                                                             61837.721\n",
            "BIC:                                                              62106.086\n",
            "Percent deviance explained:                                         0.735\n",
            "Adjusted percent deviance explained:                                0.703\n",
            "Adj. alpha (95%):                                                     0.002\n",
            "Adj. critical t value (95%):                                          3.060\n",
            "\n",
            "Summary Statistics For GWR Parameter Estimates\n",
            "---------------------------------------------------------------------------\n",
            "Variable                   Mean        STD        Min     Median        Max\n",
            "-------------------- ---------- ---------- ---------- ---------- ----------\n",
            "X0                        7.321      6.000      1.988      5.573     29.460\n",
            "X1                       -0.236      0.233     -1.096     -0.210      0.089\n",
            "X2                        0.001      0.013     -0.020     -0.000      0.041\n",
            "===========================================================================\n",
            "\n"
          ]
        }
      ]
    },
    {
      "cell_type": "markdown",
      "source": [
        "De lo anterior:\n",
        "\n",
        "X1                                  -0.093\n",
        "\n",
        "X2                                   0.003\n",
        "\n",
        "Podemos concluir que la temperatura tiene un impacto ligeramente negativo y la precipitación uno positivo."
      ],
      "metadata": {
        "id": "QdbkCN1g26SA"
      }
    },
    {
      "cell_type": "code",
      "source": [
        "gwr_results.params"
      ],
      "metadata": {
        "id": "Kq9-MH0r54a0",
        "colab": {
          "base_uri": "https://localhost:8080/"
        },
        "outputId": "a3e9be6b-c3c7-4663-cc4c-89a0f406b646"
      },
      "execution_count": null,
      "outputs": [
        {
          "output_type": "execute_result",
          "data": {
            "text/plain": [
              "array([[ 4.61371287e+00, -1.44906139e-01,  1.84538841e-03],\n",
              "       [ 4.61371287e+00, -1.44906139e-01,  1.84538841e-03],\n",
              "       [ 4.61371287e+00, -1.44906139e-01,  1.84538841e-03],\n",
              "       ...,\n",
              "       [ 2.94599603e+01, -1.09589410e+00,  8.67180408e-04],\n",
              "       [ 2.94599603e+01, -1.09589410e+00,  8.67180408e-04],\n",
              "       [ 2.94599603e+01, -1.09589410e+00,  8.67180408e-04]])"
            ]
          },
          "metadata": {},
          "execution_count": 37
        }
      ]
    },
    {
      "cell_type": "markdown",
      "source": [
        "Predicciones"
      ],
      "metadata": {
        "id": "5aA81o9M5_H5"
      }
    },
    {
      "cell_type": "code",
      "source": [
        "scale = gwr_results.scale\n",
        "residuals = gwr_results.resid_response\n",
        "\n",
        "pred_results = model.predict(g_coords, g_X, scale, residuals)"
      ],
      "metadata": {
        "id": "d5-vHPbS5-YF"
      },
      "execution_count": null,
      "outputs": []
    },
    {
      "cell_type": "code",
      "source": [
        "pred_results.predictions[:50]"
      ],
      "metadata": {
        "id": "AFBhyzUI6E8X",
        "colab": {
          "base_uri": "https://localhost:8080/"
        },
        "outputId": "e264b749-8121-4e40-f177-fb00f7241d72"
      },
      "execution_count": null,
      "outputs": [
        {
          "output_type": "execute_result",
          "data": {
            "text/plain": [
              "array([[ 3.43906936],\n",
              "       [ 4.19533045],\n",
              "       [ 4.44302473],\n",
              "       [ 4.54669075],\n",
              "       [ 5.04130497],\n",
              "       [ 3.41052625],\n",
              "       [ 3.31614923],\n",
              "       [ 2.70521514],\n",
              "       [ 1.98687081],\n",
              "       [ 1.78003031],\n",
              "       [ 1.58587819],\n",
              "       [ 2.53325249],\n",
              "       [ 3.34620318],\n",
              "       [ 3.77632538],\n",
              "       [ 4.76541243],\n",
              "       [ 4.75201179],\n",
              "       [ 4.87151363],\n",
              "       [ 4.45414186],\n",
              "       [ 3.15916875],\n",
              "       [ 2.9620484 ],\n",
              "       [ 2.19714685],\n",
              "       [ 1.54214249],\n",
              "       [ 1.79609382],\n",
              "       [ 2.67974015],\n",
              "       [ 2.99091413],\n",
              "       [ 4.14306447],\n",
              "       [ 4.43638996],\n",
              "       [ 4.34368242],\n",
              "       [ 4.34246135],\n",
              "       [ 3.42675704],\n",
              "       [ 1.82025312],\n",
              "       [ 2.36787545],\n",
              "       [ 3.52002742],\n",
              "       [ 4.05033692],\n",
              "       [ 4.11914673],\n",
              "       [ 1.91921323],\n",
              "       [ 1.95339739],\n",
              "       [ 0.82043199],\n",
              "       [ 1.97136668],\n",
              "       [ 1.95127312],\n",
              "       [-0.121372  ],\n",
              "       [ 0.83755788],\n",
              "       [ 3.13302238],\n",
              "       [ 2.39396011],\n",
              "       [ 4.07628232],\n",
              "       [ 4.86860785],\n",
              "       [ 4.06778902],\n",
              "       [ 4.18068457],\n",
              "       [ 1.57474639],\n",
              "       [ 2.66618804]])"
            ]
          },
          "metadata": {},
          "execution_count": 39
        }
      ]
    },
    {
      "cell_type": "code",
      "source": [
        "plt.plot(range(len(g_y)),g_y, color='orange')\n",
        "plt.plot(range(len(g_y)),np.exp(pred_results.predictions), alpha=0.7)\n",
        "plt.show()"
      ],
      "metadata": {
        "id": "rvaIa1yW6IzR",
        "colab": {
          "base_uri": "https://localhost:8080/",
          "height": 434
        },
        "outputId": "e56a301c-afd0-498b-98b8-b788309e0a6f"
      },
      "execution_count": null,
      "outputs": [
        {
          "output_type": "display_data",
          "data": {
            "text/plain": [
              "<Figure size 640x480 with 1 Axes>"
            ],
            "image/png": "[encoded data removed]"
          },
          "metadata": {}
        }
      ]
    },
    {
      "cell_type": "code",
      "source": [
        "plt.plot(range(len(g_y)),g_y, color='orange')\n",
        "plt.plot(range(len(g_y)),pred_results.predictions)\n",
        "plt.show()"
      ],
      "metadata": {
        "colab": {
          "base_uri": "https://localhost:8080/",
          "height": 434
        },
        "id": "WtjSU-wHTYp-",
        "outputId": "f186e43f-0dca-4b66-9fed-1d686a69e1d4"
      },
      "execution_count": null,
      "outputs": [
        {
          "output_type": "display_data",
          "data": {
            "text/plain": [
              "<Figure size 640x480 with 1 Axes>"
            ],
            "image/png": "[encoded data removed]"
          },
          "metadata": {}
        }
      ]
    },
    {
      "cell_type": "markdown",
      "source": [
        "## Caso Binomial"
      ],
      "metadata": {
        "id": "AoZu02n6E1bu"
      }
    },
    {
      "cell_type": "code",
      "source": [
        "gwr_selector = Sel_BW(g_coords, g_y, g_X, family = Binomial())\n",
        "sel = gwr_selector.search()\n",
        "sel"
      ],
      "metadata": {
        "id": "ROHJ435YEtSX",
        "colab": {
          "base_uri": "https://localhost:8080/"
        },
        "outputId": "a764c310-cff3-4181-82f1-65cd0aff53b0"
      },
      "execution_count": null,
      "outputs": [
        {
          "output_type": "execute_result",
          "data": {
            "text/plain": [
              "229.0"
            ]
          },
          "metadata": {},
          "execution_count": 42
        }
      ]
    },
    {
      "cell_type": "code",
      "source": [
        "model = GWR(g_coords, g_y, g_X, sel, family = Binomial())\n",
        "gwr_results = model.fit()\n",
        "gwr_results.summary()"
      ],
      "metadata": {
        "id": "WJuJCxjtFEfE",
        "colab": {
          "base_uri": "https://localhost:8080/"
        },
        "outputId": "ad3b1afb-238c-4046-d3b1-ca60a16bc8cb"
      },
      "execution_count": null,
      "outputs": [
        {
          "output_type": "stream",
          "name": "stdout",
          "text": [
            "===========================================================================\n",
            "Model type                                                         Binomial\n",
            "Number of observations:                                                 593\n",
            "Number of covariates:                                                     3\n",
            "\n",
            "Global Regression Results\n",
            "---------------------------------------------------------------------------\n",
            "Deviance:                                                          2030.475\n",
            "Log-likelihood:                                                  116192.427\n",
            "AIC:                                                            -232378.854\n",
            "AICc:                                                              2036.515\n",
            "BIC:                                                              -1736.790\n",
            "Percent deviance explained:                                          -0.018\n",
            "Adj. percent deviance explained:                                     -0.022\n",
            "\n",
            "Variable                              Est.         SE  t(Est/SE)    p-value\n",
            "------------------------------- ---------- ---------- ---------- ----------\n",
            "X0                                   1.350      0.195      6.905      0.000\n",
            "X1                                  -0.006      0.013     -0.433      0.665\n",
            "X2                                   0.003      0.002      2.118      0.034\n",
            "\n",
            "Geographically Weighted Regression (GWR) Results\n",
            "---------------------------------------------------------------------------\n",
            "Spatial kernel:                                           Adaptive bisquare\n",
            "Bandwidth used:                                                     229.000\n",
            "\n",
            "Diagnostic information\n",
            "---------------------------------------------------------------------------\n",
            "Effective number of parameters (trace(S)):                           15.237\n",
            "Degree of freedom (n - trace(S)):                                   577.763\n",
            "Log-likelihood:                                                  191549.874\n",
            "AIC:                                                               2320.954\n",
            "AICc:                                                              2321.812\n",
            "BIC:                                                               2387.771\n",
            "Percent deviance explained:                                        -0.148\n",
            "Adjusted percent deviance explained:                               -0.179\n",
            "Adj. alpha (95%):                                                     0.010\n",
            "Adj. critical t value (95%):                                          2.590\n",
            "\n",
            "Summary Statistics For GWR Parameter Estimates\n",
            "---------------------------------------------------------------------------\n",
            "Variable                   Mean        STD        Min     Median        Max\n",
            "-------------------- ---------- ---------- ---------- ---------- ----------\n",
            "X0                        3.344      1.609      1.264      2.633      6.897\n",
            "X1                       -0.117      0.058     -0.188     -0.135     -0.013\n",
            "X2                       -0.004      0.006     -0.017     -0.001      0.003\n",
            "===========================================================================\n",
            "\n"
          ]
        }
      ]
    },
    {
      "cell_type": "markdown",
      "source": [
        "Un p value grande no es un buen indicador de la correlación que está definiendo el modelo."
      ],
      "metadata": {
        "id": "e5RazOn53POC"
      }
    },
    {
      "cell_type": "code",
      "source": [
        "gwr_results.params"
      ],
      "metadata": {
        "id": "u5McCB8iFJRw",
        "colab": {
          "base_uri": "https://localhost:8080/"
        },
        "outputId": "5cc0614c-86c2-4ed0-96c4-cb9316cf4007"
      },
      "execution_count": null,
      "outputs": [
        {
          "output_type": "execute_result",
          "data": {
            "text/plain": [
              "array([[ 2.48085649e+00, -1.57234910e-01, -3.90216461e-03],\n",
              "       [ 2.48085649e+00, -1.57234910e-01, -3.90216461e-03],\n",
              "       [ 2.48085649e+00, -1.57234910e-01, -3.90216461e-03],\n",
              "       ...,\n",
              "       [ 6.89676279e+00, -1.35394681e-01, -2.07848744e-04],\n",
              "       [ 6.89676279e+00, -1.35394681e-01, -2.07848744e-04],\n",
              "       [ 6.89676279e+00, -1.35394681e-01, -2.07848744e-04]])"
            ]
          },
          "metadata": {},
          "execution_count": 44
        }
      ]
    },
    {
      "cell_type": "markdown",
      "source": [
        "Predicciones"
      ],
      "metadata": {
        "id": "NBRQkirRFRGA"
      }
    },
    {
      "cell_type": "code",
      "source": [
        "scale = gwr_results.scale\n",
        "residuals = gwr_results.resid_response\n",
        "\n",
        "pred_results = model.predict(g_coords, g_X, scale, residuals)"
      ],
      "metadata": {
        "id": "1OhgEty7FQQt"
      },
      "execution_count": null,
      "outputs": []
    },
    {
      "cell_type": "code",
      "source": [
        "pred_results.predictions[:50]"
      ],
      "metadata": {
        "id": "whxgaAJ9FVfv",
        "colab": {
          "base_uri": "https://localhost:8080/"
        },
        "outputId": "c2155303-d80f-4e58-fd7d-c4d87fb8fb9b"
      },
      "execution_count": null,
      "outputs": [
        {
          "output_type": "execute_result",
          "data": {
            "text/plain": [
              "array([[ 0.42096647],\n",
              "       [ 2.02097308],\n",
              "       [ 1.96085743],\n",
              "       [ 2.2516612 ],\n",
              "       [ 2.73580714],\n",
              "       [ 1.13042679],\n",
              "       [ 0.4954287 ],\n",
              "       [-0.39185763],\n",
              "       [-1.14474895],\n",
              "       [-1.40284365],\n",
              "       [-1.17775787],\n",
              "       [-0.72370324],\n",
              "       [ 0.15369052],\n",
              "       [ 0.8205726 ],\n",
              "       [ 2.25280952],\n",
              "       [ 2.0493228 ],\n",
              "       [ 1.93572409],\n",
              "       [ 1.42733901],\n",
              "       [ 0.50281942],\n",
              "       [-0.42493352],\n",
              "       [-0.66209583],\n",
              "       [-1.08527657],\n",
              "       [-1.34408152],\n",
              "       [-0.43071872],\n",
              "       [ 0.34859141],\n",
              "       [ 0.69418925],\n",
              "       [ 2.06761618],\n",
              "       [ 1.52181712],\n",
              "       [ 1.29257611],\n",
              "       [ 1.00337678],\n",
              "       [ 0.70764485],\n",
              "       [ 1.29118945],\n",
              "       [ 1.31716421],\n",
              "       [ 1.54820971],\n",
              "       [ 1.89404515],\n",
              "       [ 0.98373825],\n",
              "       [ 0.62457549],\n",
              "       [ 0.19215203],\n",
              "       [-0.02446449],\n",
              "       [-0.18923492],\n",
              "       [-0.18901395],\n",
              "       [ 0.12994101],\n",
              "       [ 0.65899426],\n",
              "       [ 0.93184409],\n",
              "       [ 1.64269032],\n",
              "       [ 1.63707903],\n",
              "       [ 1.44688285],\n",
              "       [ 1.36335699],\n",
              "       [ 0.61603898],\n",
              "       [ 0.2963609 ]])"
            ]
          },
          "metadata": {},
          "execution_count": 46
        }
      ]
    },
    {
      "cell_type": "code",
      "source": [
        "plt.plot(range(len(g_y)),g_y, color='orange')\n",
        "plt.plot(range(len(g_y)),np.exp(pred_results.predictions), alpha=.9)\n",
        "plt.show()"
      ],
      "metadata": {
        "colab": {
          "base_uri": "https://localhost:8080/",
          "height": 434
        },
        "id": "kuMFdVKZTww6",
        "outputId": "58681343-66a0-43a2-daaf-65685c480e4a"
      },
      "execution_count": null,
      "outputs": [
        {
          "output_type": "display_data",
          "data": {
            "text/plain": [
              "<Figure size 640x480 with 1 Axes>"
            ],
            "image/png": "[encoded data removed]"
          },
          "metadata": {}
        }
      ]
    },
    {
      "cell_type": "code",
      "source": [
        "def inv_logit(p):\n",
        "  return np.exp(p) / (1 + np.exp(p))"
      ],
      "metadata": {
        "id": "ijXp1B8NGbui"
      },
      "execution_count": null,
      "outputs": []
    },
    {
      "cell_type": "code",
      "source": [
        "p = inv_logit(pred_results.predictions).reshape(1,-1)\n",
        "p"
      ],
      "metadata": {
        "id": "qHqM6bdKGmj4",
        "colab": {
          "base_uri": "https://localhost:8080/"
        },
        "outputId": "381020ac-7570-4324-b234-a7dbf5e8f975"
      },
      "execution_count": null,
      "outputs": [
        {
          "output_type": "execute_result",
          "data": {
            "text/plain": [
              "array([[0.6037145 , 0.88298159, 0.87662572, 0.90479373, 0.93910677,\n",
              "        0.75591765, 0.62138446, 0.40327019, 0.24144952, 0.19736525,\n",
              "        0.23545558, 0.32657803, 0.53834718, 0.69435787, 0.9048926 ,\n",
              "        0.88587917, 0.87388164, 0.80648636, 0.62312168, 0.39533681,\n",
              "        0.34026897, 0.25250877, 0.20683966, 0.39395472, 0.58627596,\n",
              "        0.6668982 , 0.88771557, 0.8208059 , 0.7845829 , 0.73172197,\n",
              "        0.66988055, 0.78434845, 0.78870952, 0.82465501, 0.86921607,\n",
              "        0.72784934, 0.65125846, 0.54789074, 0.49388418, 0.45283194,\n",
              "        0.45288669, 0.53243962, 0.65903443, 0.71744926, 0.83790068,\n",
              "        0.83713709, 0.80951824, 0.79630476, 0.64931714, 0.57355267,\n",
              "        0.50502075, 0.45143957, 0.44878525, 0.59244642, 0.62614529,\n",
              "        0.72563858, 0.79803832, 0.79212698, 0.76094535, 0.69284321,\n",
              "        0.6827038 , 0.77361152, 0.80736231, 0.86205583, 0.90289508,\n",
              "        0.74739116, 0.68985215, 0.55771614, 0.56537453, 0.47964698,\n",
              "        0.47507219, 0.55218478, 0.70863127, 0.76122299, 0.87234021,\n",
              "        0.88464303, 0.84442592, 0.85816128, 0.70810061, 0.59902381,\n",
              "        0.54375735, 0.44299215, 0.4504501 , 0.63830992, 0.64338216,\n",
              "        0.75844076, 0.80012938, 0.86992026, 0.79157995, 0.72659076,\n",
              "        0.69039321, 0.91457127, 0.90387319, 0.90754149, 0.96985013,\n",
              "        0.8562044 , 0.76384745, 0.53408624, 0.3077917 , 0.25169947,\n",
              "        0.28616523, 0.48236672, 0.69885007, 0.84201831, 0.92823882,\n",
              "        0.91165908, 0.93938015, 0.902124  , 0.78218228, 0.45716841,\n",
              "        0.33693701, 0.37638698, 0.27680794, 0.49140348, 0.70119807,\n",
              "        0.8152412 , 0.93107173, 0.9157559 , 0.90100972, 0.83639803,\n",
              "        0.88644847, 0.9582631 , 0.86571521, 0.93966049, 0.98637852,\n",
              "        0.94340033, 0.89284572, 0.81075708, 0.64129944, 0.69129196,\n",
              "        0.80620715, 0.94599204, 0.87881704, 0.97499559, 0.97865507,\n",
              "        0.97326664, 0.9418628 , 0.76525004, 0.61724461, 0.72132222,\n",
              "        0.76582298, 0.78938665, 0.91576754, 0.94572565, 0.94923796,\n",
              "        0.94692881, 0.94739251, 0.90937141, 0.71406268, 0.60841805,\n",
              "        0.46703116, 0.2972805 , 0.84309067, 0.83201952, 0.76753328,\n",
              "        0.56897923, 0.46144542, 0.55056251, 0.83442445, 0.8088985 ,\n",
              "        0.76732815, 0.70477924, 0.87794308, 0.97006086, 0.89080409,\n",
              "        0.93225198, 0.98701477, 0.95217778, 0.91856251, 0.78790115,\n",
              "        0.60824824, 0.51389258, 0.6182958 , 0.80100172, 0.87915074,\n",
              "        0.92861984, 0.94273047, 0.96785499, 0.97654749, 0.97699507,\n",
              "        0.92095922, 0.61721469, 0.62648171, 0.65523305, 0.64484994,\n",
              "        0.73282959, 0.80857787, 0.92765845, 0.95379408, 0.96611052,\n",
              "        0.96014469, 0.94796374, 0.86248471, 0.8954374 , 0.89705846,\n",
              "        0.95432665, 0.98282915, 0.93400785, 0.85204507, 0.8061576 ,\n",
              "        0.71002114, 0.71175749, 0.69102186, 0.78476991, 0.77844602,\n",
              "        0.9082035 , 0.9155867 , 0.95159128, 0.9664736 , 0.93632154,\n",
              "        0.89162291, 0.82405871, 0.78969161, 0.59950613, 0.72006349,\n",
              "        0.76526962, 0.77574756, 0.8991665 , 0.94138202, 0.90250176,\n",
              "        0.91011632, 0.93307975, 0.85227085, 0.96711625, 0.82236707,\n",
              "        0.93503278, 0.98690034, 0.95581085, 0.92324806, 0.80759452,\n",
              "        0.73489816, 0.58684926, 0.58192392, 0.81404011, 0.79298944,\n",
              "        0.9454044 , 0.89328219, 0.97413247, 0.98056291, 0.98053287,\n",
              "        0.95731488, 0.8506685 , 0.79075775, 0.71080803, 0.72412137,\n",
              "        0.68832276, 0.76079176, 0.89689049, 0.93678853, 0.94601729,\n",
              "        0.94434278, 0.94683903, 0.71153607, 0.86236577, 0.84680332,\n",
              "        0.86347357, 0.93379373, 0.80215172, 0.70673827, 0.54776527,\n",
              "        0.70203926, 0.78831628, 0.88343006, 0.892262  , 0.88902297,\n",
              "        0.88569204, 0.72923816, 0.37384441, 0.39263612, 0.67927639,\n",
              "        0.81404618, 0.87496032, 0.88101361, 0.8599331 , 0.76166783,\n",
              "        0.55264359, 0.78044052, 0.80216959, 0.87322026, 0.90928807,\n",
              "        0.7128404 , 0.59965912, 0.43060518, 0.47866366, 0.62408258,\n",
              "        0.82622844, 0.82593181, 0.8259238 , 0.71438536, 0.56685228,\n",
              "        0.41641636, 0.50811934, 0.62238861, 0.82918601, 0.77790697,\n",
              "        0.69689219, 0.68818044, 0.91372045, 0.96973183, 0.68453118,\n",
              "        0.89657556, 0.98978129, 0.94944506, 0.84059676, 0.75295702,\n",
              "        0.79401408, 0.93299038, 0.80316836, 0.97396772, 0.98194939,\n",
              "        0.97025983, 0.9050158 , 0.56242118, 0.6604956 , 0.89728846,\n",
              "        0.94644429, 0.94126114, 0.94342682, 0.95607399, 0.62159945,\n",
              "        0.79835595, 0.80219536, 0.87235893, 0.91918473, 0.73385086,\n",
              "        0.54225088, 0.43720172, 0.26266251, 0.2357575 , 0.33305486,\n",
              "        0.52555837, 0.68682732, 0.87463229, 0.8630925 , 0.79554421,\n",
              "        0.77337279, 0.53860985, 0.39505275, 0.33875568, 0.46609143,\n",
              "        0.57017752, 0.64924693, 0.83693361, 0.83170468, 0.78435365,\n",
              "        0.65578394, 0.5888347 , 0.73923661, 0.75341436, 0.77846217,\n",
              "        0.84153638, 0.63083154, 0.55046279, 0.44693717, 0.57609103,\n",
              "        0.65063179, 0.80394297, 0.79738097, 0.76240981, 0.73885555,\n",
              "        0.54084123, 0.47312183, 0.5318305 , 0.66005174, 0.76151302,\n",
              "        0.74838777, 0.71641981, 0.59914959, 0.62862416, 0.78631932,\n",
              "        0.87239852, 0.89496782, 0.76809895, 0.61967573, 0.52410137,\n",
              "        0.81620408, 0.80960915, 0.85887118, 0.73826929, 0.62354317,\n",
              "        0.57183586, 0.79427235, 0.75007798, 0.72191351, 0.72990762,\n",
              "        0.85687512, 0.91509427, 0.92974965, 0.95322714, 0.96667355,\n",
              "        0.94954693, 0.93511403, 0.91096965, 0.81997412, 0.80208766,\n",
              "        0.76050201, 0.84128728, 0.89857223, 0.92723259, 0.93434384,\n",
              "        0.95997581, 0.97296416, 0.97386476, 0.9516559 , 0.91009696,\n",
              "        0.87114093, 0.76782576, 0.78514772, 0.85278967, 0.82946706,\n",
              "        0.94501255, 0.90870622, 0.91948412, 0.92709306, 0.94460745,\n",
              "        0.90439411, 0.90416709, 0.9068999 , 0.90544108, 0.90410806,\n",
              "        0.90273208, 0.90196061, 0.90212391, 0.90313352, 0.90309369,\n",
              "        0.90312085, 0.90350841, 0.90360243, 0.90367547, 0.9041059 ,\n",
              "        0.90544542, 0.90336583, 0.90248991, 0.90131618, 0.90192653,\n",
              "        0.90331197, 0.90344062, 0.90331166, 0.90440725, 0.90452948,\n",
              "        0.90503063, 0.90863764, 0.90833648, 0.90582035, 0.90283889,\n",
              "        0.90879894, 0.91031624, 0.91410992, 0.91327882, 0.91128713,\n",
              "        0.90935347, 0.90638819, 0.90559271, 0.90581058, 0.90603311,\n",
              "        0.90614303, 0.90671269, 0.9073724 , 0.90867178, 0.91107379,\n",
              "        0.91327673, 0.909574  , 0.90826599, 0.90627881, 0.90559713,\n",
              "        0.90581462, 0.90636578, 0.90603021, 0.90714307, 0.90901908,\n",
              "        0.91010671, 0.91571479, 0.91503403, 0.91213305, 0.9085968 ,\n",
              "        0.90549142, 0.90614481, 0.90861761, 0.90733492, 0.90548938,\n",
              "        0.90372308, 0.90249203, 0.9032786 , 0.90383545, 0.90439051,\n",
              "        0.90439059, 0.90472279, 0.90461097, 0.90505172, 0.90636197,\n",
              "        0.90754959, 0.90472004, 0.90338838, 0.90181421, 0.9024925 ,\n",
              "        0.90394738, 0.90461236, 0.90439141, 0.90505357, 0.90560093,\n",
              "        0.90592734, 0.91019851, 0.90977914, 0.90647   , 0.90349996,\n",
              "        0.96046938, 0.96081807, 0.96389355, 0.96336042, 0.96244458,\n",
              "        0.95859501, 0.95677404, 0.96037294, 0.95957345, 0.95892587,\n",
              "        0.9592796 , 0.96200946, 0.96154173, 0.96166028, 0.96166315,\n",
              "        0.95578872, 0.95420886, 0.95529969, 0.95218447, 0.95849628,\n",
              "        0.95765538, 0.95978531, 0.9581369 , 0.96002355, 0.96194581,\n",
              "        0.96641066, 0.96028818, 0.95741783, 0.90694845, 0.90781686,\n",
              "        0.91213248, 0.91235708, 0.91090739, 0.90929413, 0.90515866,\n",
              "        0.90337058, 0.90349754, 0.90335353, 0.90347804, 0.90471445,\n",
              "        0.90552185, 0.90725477, 0.90951211, 0.91179514, 0.90906749,\n",
              "        0.9076605 , 0.90538896, 0.90377409, 0.90362435, 0.90372116,\n",
              "        0.90360396, 0.90528135, 0.90697823, 0.90829323, 0.91349213,\n",
              "        0.91338181, 0.91170676, 0.90895393, 0.9650503 , 0.96509234,\n",
              "        0.96604465, 0.96632444, 0.9666272 , 0.96536787, 0.9645258 ,\n",
              "        0.96229467, 0.96324893, 0.96544325, 0.96430767, 0.96519316,\n",
              "        0.96533172, 0.96536816, 0.96489363, 0.96593484, 0.9664399 ,\n",
              "        0.96314505, 0.9626034 , 0.96195276, 0.96173244, 0.96487587,\n",
              "        0.96438086, 0.96478729, 0.96634647, 0.96609479, 0.96576744,\n",
              "        0.97029585, 0.96850638, 0.96525357]])"
            ]
          },
          "metadata": {},
          "execution_count": 52
        }
      ]
    },
    {
      "cell_type": "code",
      "source": [
        "g_y[200:220]"
      ],
      "metadata": {
        "id": "52ez05v6OvsB",
        "colab": {
          "base_uri": "https://localhost:8080/"
        },
        "outputId": "f7d1b439-ab1e-45e5-e70e-50fb228c0150"
      },
      "execution_count": null,
      "outputs": [
        {
          "output_type": "execute_result",
          "data": {
            "text/plain": [
              "array([[  18],\n",
              "       [   9],\n",
              "       [   0],\n",
              "       [   8],\n",
              "       [  23],\n",
              "       [  83],\n",
              "       [ 741],\n",
              "       [3619],\n",
              "       [4782],\n",
              "       [1561],\n",
              "       [ 248],\n",
              "       [  31],\n",
              "       [   6],\n",
              "       [   1],\n",
              "       [   1],\n",
              "       [   7],\n",
              "       [  41],\n",
              "       [  42],\n",
              "       [ 258],\n",
              "       [1399]])"
            ]
          },
          "metadata": {},
          "execution_count": 54
        }
      ]
    },
    {
      "cell_type": "code",
      "source": [
        "g_N[200:220]"
      ],
      "metadata": {
        "id": "uekbiCxGOpop",
        "colab": {
          "base_uri": "https://localhost:8080/"
        },
        "outputId": "d5c74b36-82eb-41c9-affc-16e1d780c9ee"
      },
      "execution_count": null,
      "outputs": [
        {
          "output_type": "execute_result",
          "data": {
            "text/plain": [
              "array([ 3361,  2023,  1676,  2261,  4679,  8239, 10106, 15565, 16281,\n",
              "        9997,  5342,  3856,  2908,  2390,  1836,  3215,  6252,  6008,\n",
              "        8995, 13926])"
            ]
          },
          "metadata": {},
          "execution_count": 55
        }
      ]
    },
    {
      "cell_type": "code",
      "source": [
        "p[0][200:220]"
      ],
      "metadata": {
        "id": "0iE0LKl0O3Xj",
        "colab": {
          "base_uri": "https://localhost:8080/"
        },
        "outputId": "8dbb9264-3d6d-4ee2-acd0-9832bef0d7c0"
      },
      "execution_count": null,
      "outputs": [
        {
          "output_type": "execute_result",
          "data": {
            "text/plain": [
              "array([0.71002114, 0.71175749, 0.69102186, 0.78476991, 0.77844602,\n",
              "       0.9082035 , 0.9155867 , 0.95159128, 0.9664736 , 0.93632154,\n",
              "       0.89162291, 0.82405871, 0.78969161, 0.59950613, 0.72006349,\n",
              "       0.76526962, 0.77574756, 0.8991665 , 0.94138202, 0.90250176])"
            ]
          },
          "metadata": {},
          "execution_count": 56
        }
      ]
    },
    {
      "cell_type": "code",
      "source": [
        "plt.plot(range(len(g_y)),g_y, color='orange')\n",
        "plt.plot(range(len(g_y)),p[0]*g_N, alpha=0.7)\n",
        "plt.show()"
      ],
      "metadata": {
        "id": "qkvWZ1O_FX5x",
        "colab": {
          "base_uri": "https://localhost:8080/",
          "height": 430
        },
        "outputId": "9f38d15f-ee58-43a9-b5f4-6db44c75a267"
      },
      "execution_count": null,
      "outputs": [
        {
          "output_type": "display_data",
          "data": {
            "text/plain": [
              "<Figure size 640x480 with 1 Axes>"
            ],
            "image/png": "[encoded data removed]"
          },
          "metadata": {}
        }
      ]
    },
    {
      "cell_type": "markdown",
      "source": [
        "## Multiscale Geographically Weighted Regression (MGWR)"
      ],
      "metadata": {
        "id": "b-_aBtz6U4Vu"
      }
    },
    {
      "cell_type": "markdown",
      "source": [
        "Necesitamos estandarizar los datos"
      ],
      "metadata": {
        "id": "zW1pK01G-eXm"
      }
    },
    {
      "cell_type": "code",
      "source": [
        "sel2 = Sel_BW(g_coords, g_y, g_X, multi=True)\n",
        "sel2.search(multi_bw_min=[2])"
      ],
      "metadata": {
        "id": "4LQj-3DnTtdw",
        "colab": {
          "base_uri": "https://localhost:8080/",
          "height": 66,
          "referenced_widgets": [
            "2b30809425074158be20cce7fa40ae54",
            "55e7a8f535a54cf7832636f8e922fdb0",
            "44d0726e45754800a000fc541d128964",
            "774077388c8646f8a9f6b8f566bbc0fd",
            "5384ec101f9f43aeb16795c50310a4a4",
            "922d0f1603ed48fda0ac1c58c22e7700",
            "90cac61da78f4aa4b80ef92111a19772",
            "54a4f58326694f28a36056166a74982e",
            "c76e576f4e314b37ace37cc92986c4cc",
            "6a2b2f93c8df4319817e939f8dc47f4d",
            "d34ac5c84eb94b9485cd1be5e01f3848"
          ]
        },
        "outputId": "5ea879fd-7115-4f3d-8ba0-3bd704e9a5a8"
      },
      "execution_count": null,
      "outputs": [
        {
          "output_type": "display_data",
          "data": {
            "text/plain": [
              "Backfitting:   0%|          | 0/200 [00:00<?, ?it/s]"
            ],
            "application/vnd.jupyter.widget-view+json": {
              "version_major": 2,
              "version_minor": 0,
              "model_id": "2b30809425074158be20cce7fa40ae54"
            }
          },
          "metadata": {}
        },
        {
          "output_type": "execute_result",
          "data": {
            "text/plain": [
              "array([55., 55., 73.])"
            ]
          },
          "metadata": {},
          "execution_count": 41
        }
      ]
    },
    {
      "cell_type": "code",
      "source": [
        "model2 = MGWR(g_coords, g_y, g_X, sel2)\n",
        "gwr_results2 = model2.fit()\n",
        "gwr_results2.summary()"
      ],
      "metadata": {
        "id": "pd-wh4JvKAI2",
        "colab": {
          "base_uri": "https://localhost:8080/",
          "height": 1000,
          "referenced_widgets": [
            "074ed83bf70f473391b88b1ea7bc9ef6",
            "5c9629bccca9428880bfc82496a40096",
            "907fa539dd64467b89da278eedafcb43",
            "f6d9b9216c6041a2b216cc0ed83c1ba8",
            "a1fe377213b14609a56f7662f40f0a15",
            "814dd50d3fd946c3868773359c062285",
            "912ba3c6c3414671b80c6f129a0f253f",
            "c0ffc115c1e643f0abe9991978b319bb",
            "914491b2ecae4deeb8140eec35085680",
            "5151ddd131fe446e83f8cdb062e16e8b",
            "00602a81bd974dc699169094399204bc"
          ]
        },
        "outputId": "812e58ec-1b16-4e94-dc8d-372afb58c923"
      },
      "execution_count": null,
      "outputs": [
        {
          "output_type": "display_data",
          "data": {
            "text/plain": [
              "Inference:   0%|          | 0/1 [00:00<?, ?it/s]"
            ],
            "application/vnd.jupyter.widget-view+json": {
              "version_major": 2,
              "version_minor": 0,
              "model_id": "074ed83bf70f473391b88b1ea7bc9ef6"
            }
          },
          "metadata": {}
        },
        {
          "output_type": "stream",
          "name": "stdout",
          "text": [
            "===========================================================================\n",
            "Model type                                                         Gaussian\n",
            "Number of observations:                                                 593\n",
            "Number of covariates:                                                     3\n",
            "\n",
            "Global Regression Results\n",
            "---------------------------------------------------------------------------\n",
            "Residual sum of squares:                                       82092440.034\n",
            "Log-likelihood:                                                   -4351.446\n",
            "AIC:                                                               8708.891\n",
            "AICc:                                                              8710.959\n",
            "BIC:                                                           82088672.770\n",
            "R2:                                                                   0.049\n",
            "Adj. R2:                                                              0.046\n",
            "\n",
            "Variable                              Est.         SE  t(Est/SE)    p-value\n",
            "------------------------------- ---------- ---------- ---------- ----------\n",
            "X0                                 221.492     26.981      8.209      0.000\n",
            "X1                                  -9.817      1.848     -5.312      0.000\n",
            "X2                                   0.299      0.194      1.542      0.123\n",
            "\n",
            "Multi-Scale Geographically Weighted Regression (MGWR) Results\n",
            "---------------------------------------------------------------------------\n",
            "Spatial kernel:                                           Adaptive bisquare\n",
            "Criterion for optimal bandwidth:                                       AICc\n",
            "Score of Change (SOC) type:                                     Smoothing f\n",
            "Termination criterion for MGWR:                                       1e-05\n",
            "\n",
            "MGWR bandwidths\n",
            "---------------------------------------------------------------------------\n",
            "Variable             Bandwidth      ENP_j   Adj t-val(95%)   Adj alpha(95%)\n",
            "X0                      55.000     21.201            3.054            0.002\n",
            "X1                      55.000     15.676            2.961            0.003\n",
            "X2                      73.000     13.807            2.921            0.004\n",
            "\n",
            "Diagnostic information\n",
            "---------------------------------------------------------------------------\n",
            "Residual sum of squares:                                       35678159.962\n",
            "Effective number of parameters (trace(S)):                           50.684\n",
            "Degree of freedom (n - trace(S)):                                   542.316\n",
            "Sigma estimate:                                                     256.493\n",
            "Log-likelihood:                                                   -4104.370\n",
            "AIC:                                                               8312.108\n",
            "AICc:                                                              8322.187\n",
            "BIC:                                                               8538.752\n",
            "R2                                                                    0.587\n",
            "Adjusted R2                                                           0.548\n",
            "\n",
            "Summary Statistics For MGWR Parameter Estimates\n",
            "---------------------------------------------------------------------------\n",
            "Variable                   Mean        STD        Min     Median        Max\n",
            "-------------------- ---------- ---------- ---------- ---------- ----------\n",
            "X0                      369.180    830.970   -613.255    135.777   3255.102\n",
            "X1                      -19.896     41.670   -147.575     -9.041     22.857\n",
            "X2                       -0.897      2.696    -11.777      0.011      0.527\n",
            "===========================================================================\n",
            "\n"
          ]
        },
        {
          "output_type": "stream",
          "name": "stderr",
          "text": [
            "/usr/local/lib/python3.10/dist-packages/mgwr/gwr.py:1593: RuntimeWarning: invalid value encountered in divide\n",
            "  CCT[:, j] += ((pR[:, :, j] / self.X[:, j].reshape(-1, 1))**2).sum(\n"
          ]
        }
      ]
    },
    {
      "cell_type": "code",
      "source": [
        "gwr_results2.params"
      ],
      "metadata": {
        "id": "y6GtjZmhTKFH",
        "colab": {
          "base_uri": "https://localhost:8080/"
        },
        "outputId": "14ecfbbc-2512-4aff-d93b-c27bc1aa5532"
      },
      "execution_count": null,
      "outputs": [
        {
          "output_type": "execute_result",
          "data": {
            "text/plain": [
              "array([[ 1.11905332e+02, -6.54848874e+00,  8.93439101e-02],\n",
              "       [ 1.11905332e+02, -6.54848874e+00,  8.93439101e-02],\n",
              "       [ 1.11905332e+02, -6.54848874e+00,  8.93439101e-02],\n",
              "       ...,\n",
              "       [-6.13254716e+02,  2.28571989e+01,  8.52381162e-02],\n",
              "       [-6.13254716e+02,  2.28571989e+01,  8.52381162e-02],\n",
              "       [-6.13254716e+02,  2.28571989e+01,  8.52381162e-02]])"
            ]
          },
          "metadata": {},
          "execution_count": 43
        }
      ]
    },
    {
      "cell_type": "code",
      "source": [
        "params2 = pd.DataFrame(gwr_results2.params).drop_duplicates().values\n",
        "params2"
      ],
      "metadata": {
        "id": "owZyPExsXADU",
        "colab": {
          "base_uri": "https://localhost:8080/"
        },
        "outputId": "c32b9697-c0f1-427d-e227-1bcc7f385e09"
      },
      "execution_count": null,
      "outputs": [
        {
          "output_type": "execute_result",
          "data": {
            "text/plain": [
              "array([[ 1.11905332e+02, -6.54848874e+00,  8.93439101e-02],\n",
              "       [ 4.31814237e+01, -2.62777285e+00,  3.98055257e-02],\n",
              "       [ 1.35776684e+02, -1.19136154e+01,  5.26806862e-01],\n",
              "       [ 1.73852382e+02, -1.12275154e+01, -9.14043630e-02],\n",
              "       [ 2.11135390e+02, -1.11691746e+01, -7.52996303e-01],\n",
              "       [ 7.32615932e+01, -5.14214259e+00,  1.53051190e-03],\n",
              "       [ 2.66659574e+02, -1.51705590e+01, -6.66097603e-01],\n",
              "       [ 3.25510178e+03, -1.47575331e+02, -1.17765280e+01],\n",
              "       [ 4.46431541e+02, -2.44641134e+01, -1.48323254e+00],\n",
              "       [ 9.89701614e+01, -9.07958576e+00,  2.32611804e-01],\n",
              "       [ 1.24490817e+02, -6.25108751e+00,  1.83241231e-01],\n",
              "       [ 1.38908630e+02, -9.16933506e+00, -5.64549507e-01],\n",
              "       [ 6.68567282e+01, -2.93243196e+00,  1.17726813e-02],\n",
              "       [ 4.77191882e+01, -2.24148128e+00, -3.70323721e-03],\n",
              "       [ 5.47113744e+02, -4.05944314e+01,  2.73294445e-01],\n",
              "       [ 2.16198848e+03, -1.31658959e+02, -4.12494855e+00],\n",
              "       [ 2.62328795e+02, -9.04141890e+00,  2.01631831e-01],\n",
              "       [ 6.95307607e+01, -1.91637644e+00,  7.33376854e-04],\n",
              "       [ 1.79954218e+02, -4.01675111e+00, -6.47367338e-03],\n",
              "       [-1.93605094e+01,  2.36805018e+00,  8.62387498e-02],\n",
              "       [-7.88207242e+01,  5.98669176e+00,  1.11552476e-02],\n",
              "       [-6.13254716e+02,  2.28571989e+01,  8.52381162e-02]])"
            ]
          },
          "metadata": {},
          "execution_count": 44
        }
      ]
    },
    {
      "cell_type": "markdown",
      "source": [
        "`MGWR.predict` is not implemented yet"
      ],
      "metadata": {
        "id": "nYC5-iA_TAHQ"
      }
    },
    {
      "cell_type": "code",
      "source": [
        "y_pred = g_X[:,0]*gwr_results2.params[:,1] + g_X[:,1]*gwr_results2.params[:,2] + gwr_results2.params[:,0]"
      ],
      "metadata": {
        "id": "zjKcgdx2cKrf"
      },
      "execution_count": null,
      "outputs": []
    },
    {
      "cell_type": "code",
      "source": [
        "y_pred"
      ],
      "metadata": {
        "id": "dqp12mFmp4j_",
        "colab": {
          "base_uri": "https://localhost:8080/"
        },
        "outputId": "0e1ff554-e4b1-495c-a5b9-de6d0f571a4d"
      },
      "execution_count": null,
      "outputs": [
        {
          "output_type": "execute_result",
          "data": {
            "text/plain": [
              "array([ 5.96128825e+01,  9.30040587e+01,  1.04529003e+02,  1.09034155e+02,\n",
              "        1.31439328e+02,  5.75770405e+01,  5.38485814e+01,  2.64657529e+01,\n",
              "       -6.02388950e+00, -1.53373623e+01, -2.45503384e+01,  1.88408800e+01,\n",
              "        5.55838921e+01,  7.48199952e+01,  1.19156400e+02,  1.18741161e+02,\n",
              "        1.24386676e+02,  1.05581043e+02,  4.65753876e+01,  3.83864490e+01,\n",
              "        3.22236545e+00, -2.66677891e+01, -1.46530719e+01,  2.53258086e+01,\n",
              "        3.89431992e+01,  9.19216187e+01,  1.04114364e+02,  1.00373312e+02,\n",
              "        1.00547743e+02,  5.84562685e+01,  2.51967674e+01,  4.29664130e+01,\n",
              "        4.52313475e+01,  5.26766836e+01,  6.28735546e+01,  3.33948537e+01,\n",
              "        2.29431057e+01,  8.82490382e+00,  3.99858882e+00, -8.43040236e-01,\n",
              "       -3.54547053e+00,  7.02918809e+00,  2.54907201e+01,  3.24987428e+01,\n",
              "        5.54717613e+01,  5.63433199e+01,  4.97382452e+01,  4.74447779e+01,\n",
              "        2.21987423e+01,  1.42827279e+01,  5.61499724e+00, -3.60125909e+00,\n",
              "       -3.17552241e+00,  1.56169428e+01,  1.88941539e+01,  3.46922097e+01,\n",
              "        4.61115969e+01,  4.56693907e+01,  3.99599404e+01,  2.85252999e+01,\n",
              "        4.63723092e+01,  9.80948541e+01,  1.28167324e+02,  1.76073097e+02,\n",
              "        2.20582700e+02,  8.26235582e+01,  5.14296551e+01, -1.45732460e+01,\n",
              "       -5.40638489e+00, -4.56086854e+01, -5.24899827e+01, -1.90066257e+01,\n",
              "        6.40121370e+01,  9.46753431e+01,  1.84229979e+02,  1.99754378e+02,\n",
              "        1.56650328e+02,  1.69439220e+02,  6.12360430e+01,  1.09039119e+01,\n",
              "       -1.43089991e+01, -6.94488518e+01, -6.58747672e+01,  2.87903173e+01,\n",
              "        2.49925743e+01,  9.26937713e+01,  1.19478901e+02,  1.82309290e+02,\n",
              "        1.12144193e+02,  7.20636583e+01,  7.73079496e+01,  1.41155481e+02,\n",
              "        1.63380486e+02,  1.74668941e+02,  2.29601495e+02,  1.11558717e+02,\n",
              "        8.78651612e+01,  2.52348224e+01, -2.18811287e+01, -3.46990800e+01,\n",
              "       -3.84725658e+01,  1.43165597e+01,  7.16332531e+01,  1.18910688e+02,\n",
              "        1.85661849e+02,  1.77152095e+02,  1.97099594e+02,  1.59538451e+02,\n",
              "        8.13160271e+01,  3.87230852e+01, -3.08989067e+00, -3.80795347e+01,\n",
              "       -3.46686145e+01,  2.46193689e+01,  6.55563774e+01,  1.27839387e+02,\n",
              "        1.67568328e+02,  1.66303904e+02,  1.52238279e+02,  1.07640514e+02,\n",
              "        4.50652205e+01,  1.15833322e+02,  3.15222406e+01,  8.96532305e+01,\n",
              "        1.90603744e+02,  9.47495878e+01,  4.88166510e+01,  5.78461680e+00,\n",
              "       -5.18318527e+01, -3.63567235e+01,  3.29875497e+00,  9.77736630e+01,\n",
              "        3.91523326e+01,  1.49917277e+02,  1.60521786e+02,  1.45499915e+02,\n",
              "        9.28545200e+01, -1.27650579e+01, -5.79424010e+01, -2.68691324e+01,\n",
              "       -1.20110876e+01, -3.32712548e+00,  6.61350789e+01,  9.72336639e+01,\n",
              "        1.01902241e+02,  9.88904181e+01,  9.98951166e+01,  8.72496060e+01,\n",
              "        3.11009216e+01,  1.89512464e+01, -2.63733465e+00, -3.30609193e+01,\n",
              "        6.62580399e+01,  6.37047226e+01,  4.98737402e+01,  1.17196469e+01,\n",
              "       -2.60886712e+00,  7.56399679e+00,  5.89010915e+01,  5.59344206e+01,\n",
              "        4.77499998e+01,  3.11580097e+01,  8.16491044e+01,  1.82673653e+02,\n",
              "        1.43667275e+02,  1.83385401e+02,  2.86831103e+02,  1.44354333e+02,\n",
              "        1.12997602e+02,  1.44473452e+01, -3.06010590e+01, -6.49237940e+01,\n",
              "       -5.93487803e+01,  1.84955719e+01,  8.85383490e+01,  1.44351337e+02,\n",
              "        1.93132130e+02,  2.29557938e+02,  2.47719200e+02,  2.39276227e+02,\n",
              "        1.14263187e+02,  3.11245711e+00, -3.03563240e+01, -6.14121851e+01,\n",
              "       -5.12156541e+01,  9.99796201e+00,  5.07736105e+01,  1.51159003e+02,\n",
              "        1.78001239e+02,  2.09926023e+02,  1.77573141e+02,  1.40890625e+02,\n",
              "        6.79418473e+02,  9.29083153e+02,  8.17760378e+02,  1.83992728e+03,\n",
              "        2.91604725e+03,  1.52755201e+03,  4.01789685e+02,  2.29038880e+02,\n",
              "       -3.09003244e+02, -2.47030123e+02, -2.84274822e+02,  1.34236686e+02,\n",
              "       -5.76446863e+01,  1.02694010e+03,  1.04250884e+03,  1.69975086e+03,\n",
              "        2.12823326e+03,  1.42053539e+03,  8.62104436e+02,  2.43724954e+02,\n",
              "        1.70743923e+02, -7.44480098e+02, -1.49101719e+02,  2.09607786e+01,\n",
              "       -1.69430622e+01,  8.63541345e+02,  1.50436998e+03,  8.75612858e+02,\n",
              "        9.95659697e+02,  1.47893753e+03,  6.57158126e+01,  2.59165681e+02,\n",
              "        7.35326717e+01,  2.02185570e+02,  3.96453983e+02,  2.21870684e+02,\n",
              "        1.65353990e+02,  1.71630058e+01, -2.99231709e+01, -1.14518529e+02,\n",
              "       -1.25481536e+02,  1.89465743e+01,  2.99606847e+01,  2.07248853e+02,\n",
              "        1.44564753e+02,  3.17557080e+02,  3.49517975e+02,  3.46185313e+02,\n",
              "        2.28763103e+02,  6.50474355e+01,  1.29979645e+00, -6.95599800e+01,\n",
              "       -5.83680308e+01, -5.20251806e+01, -5.77303242e-01,  1.35832128e+02,\n",
              "        1.94414279e+02,  2.17988453e+02,  2.07690133e+02,  1.99995771e+02,\n",
              "        2.83742788e+01,  7.18477100e+01,  9.27447479e+01,  1.15556156e+02,\n",
              "        1.48832692e+02,  4.88199989e+01,  3.07709530e+01, -2.57768067e+01,\n",
              "        3.59837750e+01,  6.37598570e+01,  1.26475692e+02,  1.31295392e+02,\n",
              "        1.22729870e+02,  1.12744643e+02,  2.75384214e+01, -1.32250397e+01,\n",
              "       -7.20361717e+01,  1.91078311e+01,  6.97914556e+01,  8.85608256e+01,\n",
              "        1.06110571e+02,  7.69674873e+01,  4.31357729e+01,  7.06238046e+01,\n",
              "        9.27113879e+01,  1.10411348e+02,  1.15408987e+02,  1.38340150e+02,\n",
              "        6.58546858e+01,  7.13551539e+01,  4.69492342e+01,  6.99757216e+01,\n",
              "        8.32725726e+01,  1.33967147e+02,  1.31104406e+02,  1.35581758e+02,\n",
              "        1.25070174e+02,  6.13067958e+01,  5.92755763e+01,  5.71588053e+01,\n",
              "        1.06062462e+02,  1.04425626e+02,  1.11463704e+02,  1.18035326e+02,\n",
              "        7.26895837e+01,  2.12924781e+01,  7.30004895e+01, -4.84825981e+00,\n",
              "        4.36000666e+01,  1.39284647e+02,  4.83525192e+01,  9.01523511e+00,\n",
              "       -3.37618674e+01, -8.46295644e+00,  4.90034599e+01,  1.95074570e+01,\n",
              "        1.01087488e+02,  1.17087872e+02,  9.24125936e+01,  2.59262495e+01,\n",
              "       -4.75962160e+01, -3.72048295e+01,  3.80884868e+01,  6.48153116e+01,\n",
              "        6.04837724e+01,  5.90897285e+01,  5.39124130e+01,  4.20263118e+01,\n",
              "        6.36487121e+01,  6.31610128e+01,  7.48152920e+01,  8.70302612e+01,\n",
              "        5.47229906e+01,  3.35362829e+01,  2.12374174e+01,  5.80542770e+00,\n",
              "        2.75291439e+00,  1.39373602e+01,  3.24681905e+01,  4.92067014e+01,\n",
              "        7.47327798e+01,  7.30193376e+01,  6.22565606e+01,  5.82169794e+01,\n",
              "        3.36564677e+01,  1.84229191e+01,  1.19644018e+01,  2.56115496e+01,\n",
              "        3.66065587e+01,  4.47090595e+01,  6.95736167e+01,  6.71968553e+01,\n",
              "        6.11861135e+01,  4.55334575e+01,  2.47360942e+01,  4.23366705e+01,\n",
              "        4.21304002e+01,  4.62409829e+01,  5.65925324e+01,  2.99940808e+01,\n",
              "        2.09215025e+01,  9.82788776e+00,  2.21330747e+01,  3.10059463e+01,\n",
              "        4.93123984e+01,  4.81768448e+01,  4.29944042e+01,  3.95947796e+01,\n",
              "        2.00293539e+01,  1.12858275e+01,  1.93798696e+01,  3.11408464e+01,\n",
              "        4.50060802e+01,  4.24541654e+01,  3.79086181e+01,  2.63666049e+01,\n",
              "        1.07142628e+02,  2.39041899e+02,  3.24073610e+02,  4.12204152e+02,\n",
              "        1.40894095e+02,  6.96657943e+01,  6.75300151e+01,  2.94328968e+02,\n",
              "        3.06055341e+02,  3.53744825e+02,  2.01918307e+02,  2.97566403e+01,\n",
              "        1.22598449e+02,  2.61388823e+02,  2.53021930e+02,  2.10514438e+02,\n",
              "        1.59753453e+02,  1.32190059e+02,  5.59579111e+02,  7.19196346e+02,\n",
              "        1.02843173e+03,  1.28081070e+03,  9.60975766e+02,  7.74945808e+02,\n",
              "        5.17188738e+02, -6.66716219e+01, -1.55639974e+02, -3.34221529e+02,\n",
              "        4.25376963e+01,  4.20879022e+02,  6.88598626e+02,  7.73786646e+02,\n",
              "        1.14812834e+03,  1.43993712e+03,  1.46582248e+03,  9.97280535e+02,\n",
              "        5.12758335e+02,  2.12412476e+02, -3.10234170e+02, -2.35120945e+02,\n",
              "        1.02654905e+02, -1.62741491e+01,  9.02615577e+02,  5.12841878e+02,\n",
              "        6.14388713e+02,  6.89977090e+02,  8.94224700e+02,  8.89227679e+01,\n",
              "        3.99761633e+01,  3.95831226e+01,  3.22014875e+01,  1.82031269e+01,\n",
              "        1.26329768e+01,  1.39224655e+01,  4.37374106e+01,  4.72806832e+01,\n",
              "        6.01447941e+01,  5.13738094e+01,  9.00541525e+01,  5.95674195e+01,\n",
              "        7.68843925e+01,  1.89088383e+01,  3.07699015e+01,  1.31815392e+01,\n",
              "        8.44543742e+00,  1.41602672e+01,  2.48105844e+01,  7.16314058e+01,\n",
              "        7.10031457e+01,  7.17322217e+01,  8.46280099e+01,  8.56732941e+01,\n",
              "        4.43493278e+01,  6.83482911e+01,  4.76503060e+01,  2.98529542e+01,\n",
              "        1.92634627e+01,  2.50288719e+01,  2.76650094e+01,  3.44772795e+01,\n",
              "        3.29705066e+01,  2.92967560e+01,  2.58884942e+01,  2.07253518e+01,\n",
              "        1.94863411e+01,  1.99196327e+01,  2.03123685e+01,  2.05180137e+01,\n",
              "        2.13725024e+01,  2.25567970e+01,  2.49860364e+01,  2.89209612e+01,\n",
              "        3.29882543e+01,  2.62358341e+01,  2.39698443e+01,  2.05174332e+01,\n",
              "        1.94514323e+01,  1.98876574e+01,  2.09034157e+01,  2.03353232e+01,\n",
              "        2.22412857e+01,  2.53893391e+01,  2.72403717e+01,  3.78028772e+01,\n",
              "        3.61918243e+01,  3.08239902e+01,  2.45183557e+01,  7.25072015e+01,\n",
              "        7.58462243e+01,  8.52498306e+01,  8.02983137e+01,  7.37210153e+01,\n",
              "        6.71297822e+01,  6.24057986e+01,  6.45073624e+01,  6.68873268e+01,\n",
              "        6.86419344e+01,  6.85920871e+01,  6.93225922e+01,  6.97909788e+01,\n",
              "        7.13782582e+01,  7.67958796e+01,  8.12654478e+01,  7.09487789e+01,\n",
              "        6.60438725e+01,  6.00812004e+01,  6.21358464e+01,  6.68397290e+01,\n",
              "        6.89727065e+01,  6.81136826e+01,  7.02848548e+01,  7.28719767e+01,\n",
              "        7.48072324e+01,  9.14309727e+01,  8.99226721e+01,  7.75037594e+01,\n",
              "        6.64630265e+01,  6.71149911e+01,  8.04183729e+01,  7.57980852e+01,\n",
              "        5.94285643e+01,  5.38349267e+01,  8.39096361e+01,  8.15021688e+01,\n",
              "        5.65500412e+01,  6.04433692e+01,  5.64670597e+01,  5.81102595e+01,\n",
              "        6.53352156e+01,  8.30666056e+01,  6.98023828e+01,  8.74004543e+01,\n",
              "        5.73014664e+01,  6.86889417e+01,  6.85861583e+01,  6.06109251e+01,\n",
              "        6.15637699e+01,  6.55174650e+01,  6.96284991e+01,  7.16669909e+01,\n",
              "        7.25997756e+01,  8.37870507e+01,  5.23935916e+01,  4.58384854e+01,\n",
              "        5.65048126e+01,  7.36045148e+01,  6.84132048e+01,  4.46884399e+01,\n",
              "        4.34877549e+01,  5.08287064e+01,  5.93852123e+01,  8.04803051e+01,\n",
              "        9.08406145e+01,  9.01393171e+01,  9.12165464e+01,  9.05699096e+01,\n",
              "        8.41202751e+01,  8.07227289e+01,  7.29072992e+01,  5.84924122e+01,\n",
              "        4.64766387e+01,  6.04687671e+01,  6.78067397e+01,  7.95105338e+01,\n",
              "        8.82258118e+01,  8.94380196e+01,  8.93971128e+01,  8.98886916e+01,\n",
              "        8.19278760e+01,  7.29251602e+01,  6.58300045e+01,  3.91022088e+01,\n",
              "        3.75877065e+01,  4.64907729e+01,  6.10116601e+01,  8.17945706e+00,\n",
              "        7.66802836e+00,  5.72058418e+00,  2.20877380e+00, -4.89022291e+00,\n",
              "        4.30112277e+00,  7.97756233e+00,  1.76076375e+01,  6.68863484e+00,\n",
              "        1.08745826e-01,  4.05076192e+00, -9.44872777e-02,  4.74436097e+00,\n",
              "        7.56440424e+00,  1.00802670e+01,  5.57831092e-01,  7.51202010e-01,\n",
              "        7.89049227e+00,  1.41043509e+01,  1.81885951e+01,  1.41168899e+01,\n",
              "        4.94994099e-01,  6.44461461e+00,  4.83227584e+00, -1.33579346e+00,\n",
              "        1.82654065e+00,  9.17272789e+00, -2.15335631e+01, -2.29207612e+01,\n",
              "       -4.09934036e+00])"
            ]
          },
          "metadata": {},
          "execution_count": 46
        }
      ]
    },
    {
      "cell_type": "code",
      "source": [
        "plt.plot(range(len(g_y)),g_y)\n",
        "plt.plot(range(len(g_y)),y_pred, alpha=0.5)\n",
        "plt.show()"
      ],
      "metadata": {
        "id": "9Mt8ZdmXc_IV",
        "colab": {
          "base_uri": "https://localhost:8080/",
          "height": 432
        },
        "outputId": "ba57c825-8cc9-4bd6-9e15-44de5d8acbd6"
      },
      "execution_count": null,
      "outputs": [
        {
          "output_type": "display_data",
          "data": {
            "text/plain": [
              "<Figure size 640x480 with 1 Axes>"
            ],
            "image/png": "[encoded data removed]"
          },
          "metadata": {}
        }
      ]
    },
    {
      "cell_type": "markdown",
      "source": [
        "Podríamos intentar hacer el multiescala con un Poisson."
      ],
      "metadata": {
        "id": "0Pz8R6bl5Qey"
      }
    },
    {
      "cell_type": "markdown",
      "source": [
        "# Estimadores Bayesianos"
      ],
      "metadata": {
        "id": "CMr7MAgioCEI"
      }
    },
    {
      "cell_type": "markdown",
      "source": [
        "La media es $m=exp(\\phi_0+\\phi_1 x_1 + \\phi_2 x_2)$ y $r = \\theta^{-1}$"
      ],
      "metadata": {
        "id": "3bmrLby7CLV2"
      }
    },
    {
      "cell_type": "markdown",
      "source": [
        "Queremos una muestra de $P(\\phi_0,\\phi_1,\\phi_2,\\theta \\mid Y)$"
      ],
      "metadata": {
        "id": "nkVcXB4KDT27"
      }
    },
    {
      "cell_type": "code",
      "source": [
        "task_id = 4\n",
        "is_eucliDis = False      #Using Euclidian distance?\n",
        "is_block = False        #block sampling?"
      ],
      "metadata": {
        "id": "G0-1lEMNoFpG"
      },
      "execution_count": null,
      "outputs": []
    },
    {
      "cell_type": "code",
      "source": [
        "#geographical kernel bandwidth\n",
        "h = [100,500,1000,2000,3000,5000,7000,10000,20000][task_id]"
      ],
      "metadata": {
        "id": "U2BG-HHQoNSd"
      },
      "execution_count": null,
      "outputs": []
    },
    {
      "cell_type": "code",
      "source": [
        "#Geographically weighted kernel (exponential kernel)\n",
        "def G_kernel(d,h):\n",
        "    return(np.exp(-d**2/h**2))\n",
        "\n",
        "#euclidean distance\n",
        "def eucliDis(A,B):\n",
        "    A = np.array(A)\n",
        "    B = np.array(B)\n",
        "    return np.sqrt(sum((A-B)**2))\n",
        "\n",
        "#spherical distance (measured in KM)\n",
        "def Haversine(A,B):\n",
        "    \"\"\"\n",
        "    This uses the ‘haversine’ formula to calculate the great-circle distance between two points – that is,\n",
        "    the shortest distance over the earth’s surface – giving an ‘as-the-crow-flies’ distance between the points\n",
        "    (ignoring any hills they fly over, of course!).\n",
        "    Haversine\n",
        "    formula:    a = sin²(Δφ/2) + cos φ1 ⋅ cos φ2 ⋅ sin²(Δλ/2)\n",
        "    c = 2 ⋅ atan2( √a, √(1−a) )\n",
        "    d = R ⋅ c\n",
        "    where   φ is latitude, λ is longitude, R is earth’s radius (mean radius = 6,371km);\n",
        "    note that angles need to be in radians to pass to trig functions!\n",
        "    \"\"\"\n",
        "    lat1,lon1,lat2,lon2 = A[0],A[1],B[0],B[1]\n",
        "\n",
        "    R = 6378.0088\n",
        "    lat1,lon1,lat2,lon2 = map(np.radians, [lat1,lon1,lat2,lon2])\n",
        "\n",
        "    dlat = lat2 - lat1\n",
        "    dlon = lon2 - lon1\n",
        "    a = np.sin(dlat/2)**2 + np.cos(lat1) * np.cos(lat2) * np.sin(dlon/2) **2\n",
        "    c = 2 * np.arctan2(a**0.5, (1-a)**0.5)\n",
        "    d = R * c\n",
        "    return round(d,4)"
      ],
      "metadata": {
        "id": "gYiAAiXCouz6"
      },
      "execution_count": null,
      "outputs": []
    },
    {
      "cell_type": "code",
      "source": [
        "#log-likelihood of negative binomial distribution\n",
        "def negBion(outcome,offset,covariate,phi,theta):\n",
        "    mean = np.exp(np.log(offset)+sum(np.array(covariate)*np.array(phi)))\n",
        "    result = loggamma(outcome+1/theta)-loggamma(1/theta)-loggamma(outcome+1)-(1/theta)*np.log(1+theta*mean)+outcome*np.log(theta*mean/(1+theta*mean))\n",
        "    return result\n",
        "\n",
        "#log-prior for phi (uniform)\n",
        "def prior_phi(phi):\n",
        "    if max(abs(np.array(phi)))>1000:\n",
        "        return np.log(0)\n",
        "    else:\n",
        "        return np.log(1/2000)*len(phi)\n",
        "\n",
        "#log-prior for theta (uniform 0,1000)\n",
        "def prior_theta(theta):\n",
        "    if theta>1000 or theta<=0:\n",
        "        return np.log(0)\n",
        "    else:\n",
        "        return np.log(1/1000)"
      ],
      "metadata": {
        "id": "ksZz--BYjAS0"
      },
      "execution_count": null,
      "outputs": []
    },
    {
      "cell_type": "code",
      "source": [
        "#baseline proposal sd for phi (proportional to estimated correlation matrix of phi)\n",
        "#EURO\n",
        "pro_st = np.array([[ 1,0,0],\n",
        "       [0,  0.1, 0],\n",
        "       [0 , 0,  0.01]])\n",
        "\n",
        "#SouthEast\n",
        "pro_st2 = np.array([[ 9.93206712e-01, -3.78288045e-02, -1.04242828e-05],\n",
        "       [-3.78288045e-02,  6.41566397e-03, -3.39223226e-04],\n",
        "       [-1.04242828e-05, -3.39223226e-04,  3.57276820e-04]])\n",
        "\n",
        "\n",
        "#two step adatpive proposal sd:\n",
        "#aggressive proposal sd for phi to approximate true value before burn_in\n",
        "pro_early = np.dot(pro_st,pro_st)\n",
        "#mild proposal sd for phi to achieve a good mixture after burn_in\n",
        "pro_later1 = [np.dot(pro_st,pro_st),np.dot(pro_st/4,pro_st/4),np.dot(pro_st/4,pro_st/4),np.dot(pro_st/4,pro_st/4),np.dot(pro_st/4,pro_st/4),np.dot(pro_st/4,pro_st/4),np.dot(pro_st2,pro_st2),np.dot(pro_st2,pro_st2),np.dot(pro_st2,pro_st2)][task_id]\n",
        "pro_later2 = np.dot(pro_st2,pro_st2)\n",
        "\n",
        "\n",
        "#aggressive proposal sd for theta to approximate true value before burn_in\n",
        "pro_theta_early = 0.25\n",
        "#mild proposal sd for theta to achieve a good mixture after burn_in\n",
        "pro_theta_later = 0.25\n"
      ],
      "metadata": {
        "id": "-k6ztHS1jESB"
      },
      "execution_count": null,
      "outputs": []
    },
    {
      "cell_type": "code",
      "source": [
        "#speccialized with latitude\n",
        "#proposal sampling function for phi (multivariate normal)\n",
        "def r_phi(phi):\n",
        "    phi = np.array(phi)\n",
        "    phi_n = ss.multivariate_normal(phi,pro_early).rvs(1)\n",
        "    return phi_n\n",
        "#proposal density function for phi\n",
        "def d_phi(phi_n,phi):\n",
        "    return np.log(ss.multivariate_normal(phi,pro_early).pdf(phi_n))\n",
        "\n",
        "def r_phi_new(phi,lat):\n",
        "    if(lat>20):\n",
        "        phi = np.array(phi)\n",
        "        phi_n = ss.multivariate_normal(phi,pro_later1).rvs(1)\n",
        "        return phi_n\n",
        "    else:\n",
        "        phi = np.array(phi)\n",
        "        phi_n = ss.multivariate_normal(phi,pro_later2).rvs(1)\n",
        "        return phi_n\n",
        "#proposal density function for phi\n",
        "def d_phi_new(phi_n,phi,lat):\n",
        "    if(lat>20):\n",
        "        return np.log(ss.multivariate_normal(phi,pro_later1).pdf(phi_n))\n",
        "    else:\n",
        "        return np.log(ss.multivariate_normal(phi,pro_later2).pdf(phi_n))\n",
        "\n",
        "#proposal sampling function for theta (truncated normal)\n",
        "def r_theta(theta):\n",
        "    lower, upper, sd = 0, 1000, pro_theta_early\n",
        "    X = ss.truncnorm(\n",
        "          (lower-theta)/sd,(upper-theta)/sd,loc=theta,scale=sd)\n",
        "    return float(X.rvs(size=1))\n",
        "#proposal density function for theta\n",
        "def d_theta(theta_n,theta):\n",
        "    theta_n = np.array(theta_n)\n",
        "    theta = np.array(theta)\n",
        "    lower, upper, sd = 0, 1000, pro_theta_early\n",
        "    X = ss.truncnorm(\n",
        "          (lower-theta)/sd,(upper-theta)/sd,loc=theta,scale=sd)\n",
        "    return sum(np.log(X.pdf(theta_n)))\n"
      ],
      "metadata": {
        "id": "qhcL9Ic3jIoT"
      },
      "execution_count": null,
      "outputs": []
    },
    {
      "cell_type": "code",
      "source": [
        "#import data from file\n",
        "url = 'https://www.ncbi.nlm.nih.gov/pmc/articles/PMC5780421/bin/41598_2018_19772_MOESM3_ESM.xlsx'\n",
        "data = pd.read_excel(url)\n",
        "#extract coordinates of locations\n",
        "location = data[['Latitude','Longitude']].drop_duplicates(subset=['Latitude','Longitude'])\n",
        "#number of locations\n",
        "num_location = location.shape[0]\n",
        "#add main key to location table\n",
        "location['index']=range(num_location)"
      ],
      "metadata": {
        "id": "TdtdU_V0jQZo"
      },
      "execution_count": null,
      "outputs": []
    },
    {
      "cell_type": "code",
      "source": [
        "#given a observation (data_slice) and a location of interest (loc_int), this function calculate the geographical weight\n",
        "def kernel_weight(data,loc_int,h):\n",
        "    loc1=data[['Latitude','Longitude']].values\n",
        "    if(is_eucliDis == True):\n",
        "        dis = np.array([eucliDis(x,loc_int) for x in loc1])\n",
        "    else:\n",
        "        dis = np.array([Haversine(x,loc_int) for x in loc1])\n",
        "    kern = G_kernel(dis,h)\n",
        "    return(kern)\n",
        "\n",
        "#geographical weighting kernel matrix\n",
        "theta_rep_num = np.zeros(shape=[num_location,num_location])\n",
        "theta_slice_ind = np.zeros(shape=[num_location,(num_location+1)])\n",
        "\n",
        "\n",
        "for i in range(num_location):\n",
        "    loc_int_inner = location.values[i][0:2]\n",
        "    for j in range(num_location):\n",
        "        theta_rep_num[i][j] = np.equal(data.iloc[:,2:4].values, location[['Latitude','Longitude']].values[j]).all(axis=1).sum()\n",
        "    theta_slice_ind[i] = np.append(0,[sum(theta_rep_num[i][:(k+1)]) for k in range(len(theta_rep_num[i]))])\n",
        "\n",
        "theta_slice_ind = theta_slice_ind.astype(int)"
      ],
      "metadata": {
        "id": "N9q3ey_gjjiv"
      },
      "execution_count": null,
      "outputs": []
    },
    {
      "cell_type": "code",
      "source": [
        "def joint_like(data,loc_int,phi,theta):\n",
        "    loc_ind = int(location.loc[(location['Latitude']==loc_int[0]) & (location['Longitude']==loc_int[1])]['index'])\n",
        "    theta_expand = np.repeat(np.array(theta),theta_rep_num[loc_ind].astype(int))\n",
        "    outcome = np.array(data['Number of positive case'])\n",
        "    offset = np.array(data['Total number of sample'])\n",
        "    covariate = np.array(data[['Intercept','Temperature','Precipitation']])\n",
        "    mean = np.exp(np.log(offset) + np.array(list(map(sum,covariate*np.array(phi)))))\n",
        "    result = sum(kernel_weight(data,loc_int,h)*(loggamma(outcome+1/theta_expand)-loggamma(1/theta_expand)-loggamma(outcome+1)-(1/theta_expand)*np.log(1+theta_expand*mean)+outcome*np.log(theta_expand*mean/(1+theta_expand*mean))))\n",
        "    result += (prior_phi(phi) + sum(list(map(prior_theta, theta))))\n",
        "    return(result)\n",
        "\n",
        "def theta_like(subdata,loc_int,phi,theta):\n",
        "    loc_ind = int(location.loc[(location['Latitude']==loc_int[0]) & (location['Longitude']==loc_int[1])]['index'])\n",
        "    theta_expand = np.repeat(np.array(theta),theta_rep_num[loc_ind].astype(int))\n",
        "    outcome = np.array(subdata['Number of positive case'])\n",
        "    offset = np.array(subdata['Total number of sample'])\n",
        "    covariate = np.array(subdata[['Intercept','Temperature','Precipitation']])\n",
        "    mean = np.exp(np.log(offset) + np.array(list(map(sum,covariate*np.array(phi)))))\n",
        "    theta_like_value = kernel_weight(data,loc_int,h)*(loggamma(outcome+1/theta_expand)-loggamma(1/theta_expand)-loggamma(outcome+1)-(1/theta_expand)*np.log(1+theta_expand*mean)+outcome*np.log(theta_expand*mean/(1+theta_expand*mean)))\n",
        "    result = np.array([sum(theta_like_value[theta_slice_ind[loc_ind][k]:theta_slice_ind[loc_ind][k+1]]) for k in range(num_location)])\n",
        "    result += np.array(list(map(prior_theta, theta)))\n",
        "    return(result)"
      ],
      "metadata": {
        "id": "XzGP9UhHjkl8"
      },
      "execution_count": null,
      "outputs": []
    },
    {
      "cell_type": "markdown",
      "source": [
        "Metropolis Hastings"
      ],
      "metadata": {
        "id": "FN_F3ZTepYjo"
      }
    },
    {
      "cell_type": "code",
      "source": [
        "#Given necessary model information \"model_info\" (i.e., list of value of phi, value of theta, coordinates of location of interest, joint density, value of theta at location of interest, number of accepted proposals),\n",
        "#function \"GWR_update\" updates old \"model_info\" by one step metropolis hasting. The output is new \"model_info\".\n",
        "if is_block:\n",
        "    def GWR_update(model_info):\n",
        "        phi_old = model_info[0]\n",
        "        theta_old = model_info[1]\n",
        "        loc_int = model_info[2]\n",
        "        joint_old = model_info[3]\n",
        "        accept_num = model_info[5]\n",
        "        theta_focus = int(location.loc[(location['Latitude']==loc_int[0]) & (location['Longitude']==loc_int[1])]['index'])\n",
        "        phi_new = r_phi(phi_old)\n",
        "        theta_new = list(map(r_theta,theta_old))\n",
        "        joint_new_phi = joint_like(data,loc_int,phi_new,theta_old)\n",
        "        rate_phi = joint_new_phi + d_phi(phi_old,phi_new) - joint_old - d_phi(phi_new,phi_old)\n",
        "        alfa_phi = min(1,np.exp(rate_phi))\n",
        "        runif = np.random.uniform(0,1,1)[0]\n",
        "        phi_old = phi_new if runif < alfa_phi else phi_old\n",
        "        accept_num = (accept_num + 1) if runif <alfa_phi else accept_num\n",
        "        joint_new_theta = theta_like(data,loc_int,phi_old,theta_new)\n",
        "        joint_old_theta = theta_like(data,loc_int,phi_old,theta_old)\n",
        "        rate_theta = joint_new_theta + d_theta(theta_old,theta_new) - joint_old_theta - d_theta(theta_new,theta_old)\n",
        "        alfa_theta = np.minimum(np.ones_like(rate_theta),np.exp(rate_theta))\n",
        "        runif = np.random.uniform(0,1,len(alfa_theta))\n",
        "        theta_pro = [theta_new[q] if runif[q] < alfa_theta[q] else theta_old[q] for q in range(num_location)]\n",
        "        theta_old = theta_pro\n",
        "        sto_theta = theta_old[theta_focus]\n",
        "        joint_old = joint_like(data,loc_int,phi_old,theta_old)\n",
        "        return([list(phi_old),theta_old,loc_int,joint_old,sto_theta,accept_num])\n",
        "else:\n",
        "    def GWR_update(model_info):\n",
        "        phi_old = model_info[0]\n",
        "        theta_old = model_info[1]\n",
        "        loc_int = model_info[2]\n",
        "        joint_old = model_info[3]\n",
        "        accept_num = model_info[5]\n",
        "        theta_focus = int(location.loc[(location['Latitude']==loc_int[0]) & (location['Longitude']==loc_int[1])]['index'])\n",
        "        phi_new = r_phi(phi_old)\n",
        "        theta_new = list(map(r_theta,theta_old))\n",
        "        joint_new = joint_like(data,loc_int,phi_new,theta_new)\n",
        "        rate = joint_new + d_phi(phi_old,phi_new) + d_theta(theta_old,theta_new) - joint_old - d_phi(phi_new,phi_old) - d_theta(theta_new,theta_old)\n",
        "        alfa = min(1,np.exp(rate))\n",
        "        runif = np.random.uniform(0,1,1)[0]\n",
        "        phi_old = phi_new if runif < alfa else phi_old\n",
        "        theta_old = theta_new if runif <alfa else theta_old\n",
        "        joint_old = joint_new if runif <alfa else joint_old\n",
        "        accept_num = (accept_num + 1) if runif <alfa else accept_num\n",
        "        sto_theta = theta_old[theta_focus]\n",
        "        return([list(phi_old),theta_old,loc_int,joint_old,sto_theta,accept_num])\n"
      ],
      "metadata": {
        "id": "bTQFSAkejpM_"
      },
      "execution_count": null,
      "outputs": []
    },
    {
      "cell_type": "code",
      "source": [
        "#initial value \"init\" (list of initial phi, initial theta, coordinates of location of interest, initial joint density)\n",
        "init_phi = [1,1,1]\n",
        "init = [[init_phi,[1]*num_location,list(x),joint_like(data,x,init_phi,[1]*num_location),1,0] for x in location[['Latitude','Longitude']].values]"
      ],
      "metadata": {
        "id": "DXz32bhIjuqX"
      },
      "execution_count": null,
      "outputs": []
    },
    {
      "cell_type": "code",
      "source": [
        "def GWR_update_new(model_info):\n",
        "    phi_old = model_info[0]\n",
        "    theta_old = model_info[1]\n",
        "    loc_int = model_info[2]\n",
        "    joint_old = model_info[3]\n",
        "    accept_num = model_info[5]\n",
        "    theta_focus = int(location.loc[(location['Latitude']==loc_int[0]) & (location['Longitude']==loc_int[1])]['index'])\n",
        "    phi_new = r_phi_new(phi_old,loc_int[0])\n",
        "    theta_new = list(map(r_theta,theta_old))\n",
        "    joint_new_phi = joint_like(data,loc_int,phi_new,theta_old)\n",
        "    rate_phi = joint_new_phi + d_phi_new(phi_old,phi_new,loc_int[0]) - joint_old - d_phi_new(phi_new,phi_old,loc_int[0])\n",
        "    alfa_phi = min(1,np.exp(rate_phi))\n",
        "    runif = np.random.uniform(0,1,1)[0]\n",
        "    phi_old = phi_new if runif < alfa_phi else phi_old\n",
        "    accept_num = (accept_num + 1) if runif <alfa_phi else accept_num\n",
        "    joint_new_theta = theta_like(data,loc_int,phi_old,theta_new)\n",
        "    joint_old_theta = theta_like(data,loc_int,phi_old,theta_old)\n",
        "    rate_theta = joint_new_theta + d_theta(theta_old,theta_new) - joint_old_theta - d_theta(theta_new,theta_old)\n",
        "    alfa_theta = np.minimum(np.ones_like(rate_theta),np.exp(rate_theta))\n",
        "    runif = np.random.uniform(0,1,len(alfa_theta))\n",
        "    theta_pro = [theta_new[q] if runif[q] < alfa_theta[q] else theta_old[q] for q in range(num_location)]\n",
        "    theta_old = theta_pro\n",
        "    sto_theta = theta_old[theta_focus]\n",
        "    joint_old = joint_like(data,loc_int,phi_old,theta_old)\n",
        "    return([list(phi_old),theta_old,loc_int,joint_old,sto_theta,accept_num])"
      ],
      "metadata": {
        "id": "moaZEgz1paoP"
      },
      "execution_count": null,
      "outputs": []
    },
    {
      "cell_type": "code",
      "source": [
        "#MCMC updates of all location simultaneously\n",
        "def GWR_MCMC_multloc(init,num_iter,thin,burn_in):\n",
        "    sto_phi = np.zeros([(num_iter-burn_in)//thin,num_location,len(init[0][0])])     #store posterior samples of phi\n",
        "    sto_theta = np.zeros([(num_iter-burn_in)//thin,num_location,1])     #store posterior samples of theta\n",
        "    iter_param = init\n",
        "    for i in range(num_iter):\n",
        "        if i%100 == 0:\n",
        "          print(i)\n",
        "\n",
        "        if( (i<=(burn_in-1)) | ((i+1) % thin !=0)):\n",
        "            iter_param = list(map(GWR_update,iter_param))       #one step metropolis hasting update for all locations\n",
        "\n",
        "        else:\n",
        "            iter_param = list(map(GWR_update_new,iter_param))       #one step metropolis hasting update for all locations\n",
        "            accept_number = []\n",
        "            for j in range(num_location):       #calculate the elpd at each location by for loop\n",
        "                sto_phi[((i+1-burn_in)//thin) - 1][j] = iter_param[j][0]\n",
        "                sto_theta[((i+1-burn_in)//thin) - 1][j] = iter_param[j][4]\n",
        "                accept_number.append(iter_param[j][5])\n",
        "    result = {'phi':sto_phi,'theta':sto_theta}\n",
        "    return(result)"
      ],
      "metadata": {
        "id": "B8IEZmZhpkVw"
      },
      "execution_count": null,
      "outputs": []
    },
    {
      "cell_type": "code",
      "source": [
        "%%time\n",
        "re=GWR_MCMC_multloc(init,2000,1,1000)"
      ],
      "metadata": {
        "id": "CMeePsgE32Ov"
      },
      "execution_count": null,
      "outputs": []
    },
    {
      "cell_type": "code",
      "source": [
        "#Histogram for the parameter phi_j in the location i\n",
        "i = 0\n",
        "j = 1\n",
        "plt.figure(figsize=(10, 5))\n",
        "plt.hist(re['phi'][:,i,j], label=('Location_{}').format(i))\n",
        "plt.title('Histogram for '+ r'$\\phi_{}$'.format(j)+' and '+r'location {}'.format(i))\n",
        "plt.show()"
      ],
      "metadata": {
        "id": "4iQhDEF5357T"
      },
      "execution_count": null,
      "outputs": []
    },
    {
      "cell_type": "code",
      "source": [
        "# Histogram of theta for location i\n",
        "i = 4\n",
        "plt.figure(figsize=(10, 5))\n",
        "plt.hist(re['theta'][:,i], label=('Location_{}').format(i))\n",
        "plt.title('Histogram for '+ r'$\\theta$'+' and '+r'location {}'.format(i))\n",
        "plt.show()"
      ],
      "metadata": {
        "id": "jFoZvDyIpwTj"
      },
      "execution_count": null,
      "outputs": []
    },
    {
      "cell_type": "code",
      "source": [
        "#Histogram for phi_0\n",
        "cm = plt.get_cmap('gist_rainbow')\n",
        "fig = plt.figure(figsize=(10, 5))\n",
        "ax = fig.add_subplot(111)\n",
        "ax.set_prop_cycle(color=[cm(1.*i/num_location) for i in range(num_location)])\n",
        "for i in range(num_location):\n",
        "    plt.hist(re['phi'][:,i,0], label=('Location_{}').format(i))\n",
        "\n",
        "plt.legend(loc='center left', bbox_to_anchor=(1, 0.5))\n",
        "plt.title('Histogram for '+ r'$\\phi_0$')\n",
        "plt.show()"
      ],
      "metadata": {
        "id": "J8N1_CMHljsp"
      },
      "execution_count": null,
      "outputs": []
    },
    {
      "cell_type": "code",
      "source": [
        "#Histogram for phi_1\n",
        "cm = plt.get_cmap('gist_rainbow')\n",
        "fig = plt.figure(figsize=(10, 5))\n",
        "ax = fig.add_subplot(111)\n",
        "ax.set_prop_cycle(color=[cm(1.*i/num_location) for i in range(num_location)])\n",
        "for i in range(num_location):\n",
        "    plt.hist(re['phi'][:,i,1], label=('Location_{}').format(i), density=True)\n",
        "\n",
        "plt.legend(loc='center left', bbox_to_anchor=(1, 0.5))\n",
        "plt.title('Histogram for '+ r'$\\phi_1$')\n",
        "plt.show()"
      ],
      "metadata": {
        "id": "umNwz5u4loLH"
      },
      "execution_count": null,
      "outputs": []
    },
    {
      "cell_type": "code",
      "source": [
        "#Histogram for phi_2\n",
        "cm = plt.get_cmap('gist_rainbow')\n",
        "fig = plt.figure(figsize=(10, 5))\n",
        "ax = fig.add_subplot(111)\n",
        "ax.set_prop_cycle(color=[cm(1.*i/num_location) for i in range(num_location)])\n",
        "for i in range(num_location):\n",
        "    plt.hist(re['phi'][:,i,2], label=('Location_{}').format(i), density=True)\n",
        "\n",
        "plt.legend(loc='center left', bbox_to_anchor=(1, 0.5))\n",
        "plt.title('Histogram for '+ r'$\\phi_2$')\n",
        "plt.show()"
      ],
      "metadata": {
        "id": "aPG-E0k5lrHU"
      },
      "execution_count": null,
      "outputs": []
    },
    {
      "cell_type": "code",
      "source": [
        "#Histogram for theta\n",
        "cm = plt.get_cmap('gist_rainbow')\n",
        "fig = plt.figure(figsize=(10, 5))\n",
        "ax = fig.add_subplot(111)\n",
        "ax.set_prop_cycle(color=[cm(1.*i/num_location) for i in range(num_location)])\n",
        "for i in range(num_location):\n",
        "    plt.hist(re['theta'][:,i], label=('Location_{}').format(i), density=True)\n",
        "\n",
        "plt.legend(loc='center left', bbox_to_anchor=(1, 0.5))\n",
        "plt.title('Histogram for '+ r'$\\theta$')\n",
        "plt.show()"
      ],
      "metadata": {
        "id": "MdYY0oPUlt8T"
      },
      "execution_count": null,
      "outputs": []
    },
    {
      "cell_type": "code",
      "source": [
        "# Histograms for phi_0\n",
        "fig, axs = plt.subplots(22, figsize=(10,40), constrained_layout=True)\n",
        "\n",
        "for i in range(num_location):\n",
        "    axs[i].hist(re['phi'][:,i,0], density=True)\n",
        "    axs[i].set_title('Location_{}'.format(i))"
      ],
      "metadata": {
        "id": "G_NOauRQ2O7C"
      },
      "execution_count": null,
      "outputs": []
    },
    {
      "cell_type": "code",
      "source": [
        "# Histograms for phi_1\n",
        "fig, axs = plt.subplots(22, figsize=(10,40), constrained_layout=True)\n",
        "\n",
        "for i in range(num_location):\n",
        "    axs[i].hist(re['phi'][:,i,1], density=True)\n",
        "    axs[i].set_title('Location_{}'.format(i))"
      ],
      "metadata": {
        "id": "wXMSUDJV3k5a"
      },
      "execution_count": null,
      "outputs": []
    },
    {
      "cell_type": "code",
      "source": [
        "# Histograms for phi_2\n",
        "fig, axs = plt.subplots(22, figsize=(10,40), constrained_layout=True)\n",
        "\n",
        "for i in range(num_location):\n",
        "    axs[i].hist(re['phi'][:,i,2], density=True)\n",
        "    axs[i].set_title('Location_{}'.format(i))"
      ],
      "metadata": {
        "id": "vg0-tymX3oaJ"
      },
      "execution_count": null,
      "outputs": []
    },
    {
      "cell_type": "code",
      "source": [
        "# Histograms for theta\n",
        "fig, axs = plt.subplots(22, figsize=(10,40), constrained_layout=True)\n",
        "\n",
        "for i in range(num_location):\n",
        "    axs[i].hist(re['theta'][:,i], density=True)\n",
        "    axs[i].set_title('Location_{}'.format(i))"
      ],
      "metadata": {
        "id": "ixmQhVhOAvb1"
      },
      "execution_count": null,
      "outputs": []
    },
    {
      "cell_type": "markdown",
      "source": [
        "Para una predicción usamos la media de la binomial negativa: https://en.wikipedia.org/wiki/Negative_binomial_distribution"
      ],
      "metadata": {
        "id": "AnBXv3j0sRGs"
      }
    },
    {
      "cell_type": "code",
      "source": [
        "est_phi=sum(re['phi'])/re['phi'].shape[0]       #posterior estimation of phi (posterior mean)\n",
        "est_theta=sum(re['theta'])/re['theta'].shape[0]     ##posterior estimation of theta (posterior mean)\n",
        "\n",
        "\n",
        "upper_phi=np.zeros_like(sum(re['phi']))\n",
        "median_phi=np.zeros_like(sum(re['phi']))\n",
        "lower_phi=np.zeros_like(sum(re['phi']))\n",
        "for i in range(num_location):\n",
        "    store_phi = []\n",
        "    for j in range(re['phi'].shape[0]):\n",
        "        store_phi.append(re['phi'][j][i])\n",
        "    store_phi = np.array(pd.DataFrame(store_phi).T)\n",
        "    upper_phi[i] = np.quantile(store_phi,q=0.975,axis=1)\n",
        "    median_phi[i] = np.quantile(store_phi,q=0.5,axis=1)\n",
        "    lower_phi[i] = np.quantile(store_phi,q=0.025,axis=1)"
      ],
      "metadata": {
        "id": "XrmffIz934C3"
      },
      "execution_count": null,
      "outputs": []
    },
    {
      "cell_type": "code",
      "source": [
        "s_phi = np.repeat(est_phi, list(theta_rep_num[0]), axis = 0)\n",
        "s_theta = np.repeat(est_theta, list(theta_rep_num[0]), axis = 0)\n",
        "\n",
        "\n",
        "offset = np.array(data['Total number of sample'])\n",
        "covariate = np.array(data[['Intercept','Temperature','Precipitation']])\n",
        "mean = np.exp(np.log(offset) + np.array(list(map(sum,covariate*np.array(s_phi)))))"
      ],
      "metadata": {
        "id": "aGktlMb393aB"
      },
      "execution_count": null,
      "outputs": []
    },
    {
      "cell_type": "code",
      "source": [
        "plt.plot(range(data.shape[0]),data['Number of positive case'].values)\n",
        "plt.plot(range(data.shape[0]),mean, alpha=0.7)\n",
        "plt.show()"
      ],
      "metadata": {
        "id": "ESpR9I1d-vGF"
      },
      "execution_count": null,
      "outputs": []
    },
    {
      "cell_type": "markdown",
      "source": [
        "Referencias:\n",
        "\n",
        "https://arxiv.org/pdf/2106.00996.pdf"
      ],
      "metadata": {
        "id": "9lUWngFZVqNa"
      }
    }
  ]
}